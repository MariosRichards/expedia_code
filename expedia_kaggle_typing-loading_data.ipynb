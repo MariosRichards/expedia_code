{
 "cells": [
  {
   "cell_type": "raw",
   "metadata": {},
   "source": [
    "expedia_kaggle_typing-loading_data\n",
    "###############################\n",
    "- reads both train.csv and test.csv\n"
   ]
  },
  {
   "cell_type": "code",
   "execution_count": 43,
   "metadata": {
    "collapsed": true
   },
   "outputs": [],
   "source": [
    "# basic set of imports\n",
    "import re, operator\n",
    "import pandas as pd\n",
    "import numpy as np\n",
    "import matplotlib.pyplot as plt\n",
    "\n",
    "from sklearn import cross_validation\n",
    "from sklearn.cross_validation import KFold\n",
    "from sklearn.cross_validation import StratifiedKFold\n",
    "from sklearn.linear_model import LinearRegression\n",
    "from sklearn.linear_model import LogisticRegression\n",
    "from sklearn.ensemble import RandomForestClassifier\n",
    "from sklearn.ensemble import GradientBoostingClassifier\n",
    "from sklearn.feature_selection import SelectKBest, f_classif\n",
    "from sklearn.preprocessing import StandardScaler\n",
    "\n",
    "from IPython.display import display, HTML\n",
    "import datetime, pickle\n",
    "import time\n",
    "import tables\n",
    "import csv\n",
    "%matplotlib inline"
   ]
  },
  {
   "cell_type": "raw",
   "metadata": {},
   "source": [
    "INFER THE DATATYPES/FIND THE DATE-TIME COLUMNS/FIND ERRORS IN THOSE COLUMNS"
   ]
  },
  {
   "cell_type": "code",
   "execution_count": 44,
   "metadata": {
    "collapsed": true
   },
   "outputs": [],
   "source": [
    "datasets = [\"test\",\"train\"]"
   ]
  },
  {
   "cell_type": "code",
   "execution_count": 49,
   "metadata": {
    "collapsed": false
   },
   "outputs": [],
   "source": [
    "# parser functions\n",
    "# dateutil.parser.parse(timestr, parserinfo=None, **kwargs)\n",
    "# Returns a datetime.datetime object or, if the fuzzy_with_tokens option is True, returns a tuple, the first element being a datetime.datetime object, the second a tuple containing the fuzzy tokens.\n",
    "\n",
    "def custom_parser(timestr):\n",
    "    \n",
    "    try:\n",
    "        out = pd.to_datetime(timestr)\n",
    "    except ValueError: # maybe just the year is garbled?\n",
    "        try:\n",
    "            special_year = ['1980']\n",
    "            special_year.extend(timestr.split(\"-\")[1:3])\n",
    "            out = pd.to_datetime( \"-\".join(special_year) )\n",
    "        except ValueError: # nope - all garbled\n",
    "            out = np.datetime64('NaT')\n",
    "        \n",
    "# if there's a parse error\n",
    "#    try replacing the year with \"1980-\" and parsing that\n",
    "#    if that still fails, then return NaT    \n",
    "    \n",
    "    return out\n"
   ]
  },
  {
   "cell_type": "code",
   "execution_count": null,
   "metadata": {
    "collapsed": true
   },
   "outputs": [],
   "source": []
  },
  {
   "cell_type": "code",
   "execution_count": null,
   "metadata": {
    "collapsed": false
   },
   "outputs": [],
   "source": []
  },
  {
   "cell_type": "code",
   "execution_count": null,
   "metadata": {
    "collapsed": false
   },
   "outputs": [],
   "source": []
  },
  {
   "cell_type": "code",
   "execution_count": null,
   "metadata": {
    "collapsed": false
   },
   "outputs": [],
   "source": []
  },
  {
   "cell_type": "code",
   "execution_count": 52,
   "metadata": {
    "collapsed": false
   },
   "outputs": [
    {
     "name": "stdout",
     "output_type": "stream",
     "text": [
      "dataset:test chunk:1 \n",
      "dataset:test chunk:2 \n",
      "dataset:test chunk:3 \n",
      "dataset:test chunk:4 \n",
      "dataset:test chunk:5 \n",
      "dataset:test chunk:6 \n",
      "dataset:train chunk:1 \n",
      "dataset:train chunk:2 \n",
      "dataset:train chunk:3 \n",
      "dataset:train chunk:4 \n",
      "dataset:train chunk:5 \n",
      "dataset:train chunk:6 \n",
      "dataset:train chunk:7 \n",
      "dataset:train chunk:8 \n",
      "dataset:train chunk:9 \n",
      "dataset:train chunk:10 \n",
      "dataset:train chunk:11 \n",
      "dataset:train chunk:12 \n",
      "dataset:train chunk:13 \n",
      "dataset:train chunk:14 \n",
      "dataset:train chunk:15 \n",
      "dataset:train chunk:16 \n",
      "dataset:train chunk:17 \n",
      "dataset:train chunk:18 \n",
      "dataset:train chunk:19 \n",
      "dataset:train chunk:20 \n",
      "dataset:train chunk:21 \n",
      "dataset:train chunk:22 \n",
      "dataset:train chunk:23 \n",
      "dataset:train chunk:24 \n",
      "dataset:train chunk:25 \n",
      "dataset:train chunk:26 \n",
      "dataset:train chunk:27 \n",
      "dataset:train chunk:28 \n",
      "dataset:train chunk:29 \n",
      "dataset:train chunk:30 \n",
      "dataset:train chunk:31 \n",
      "dataset:train chunk:32 \n",
      "dataset:train chunk:33 \n",
      "dataset:train chunk:34 \n",
      "dataset:train chunk:35 \n",
      "dataset:train chunk:36 \n",
      "dataset:train chunk:37 \n",
      "dataset:train chunk:38 \n",
      "dataset:train chunk:39 \n",
      "dataset:train chunk:40 \n",
      "dataset:train chunk:41 \n",
      "dataset:train chunk:42 \n",
      "dataset:train chunk:43 \n",
      "dataset:train chunk:44 \n",
      "dataset:train chunk:45 \n",
      "dataset:train chunk:46 \n",
      "dataset:train chunk:47 \n",
      "dataset:train chunk:48 \n",
      "dataset:train chunk:49 \n",
      "dataset:train chunk:50 \n",
      "dataset:train chunk:51 \n",
      "dataset:train chunk:52 \n",
      "dataset:train chunk:53 \n",
      "dataset:train chunk:54 \n",
      "dataset:train chunk:55 \n",
      "dataset:train chunk:56 \n",
      "dataset:train chunk:57 \n",
      "dataset:train chunk:58 \n",
      "dataset:train chunk:59 \n",
      "dataset:train chunk:60 \n",
      "dataset:train chunk:61 \n",
      "dataset:train chunk:62 \n",
      "dataset:train chunk:63 \n",
      "dataset:train chunk:64 \n",
      "dataset:train chunk:65 \n",
      "dataset:train chunk:66 \n",
      "dataset:train chunk:67 \n",
      "dataset:train chunk:68 \n",
      "dataset:train chunk:69 \n",
      "dataset:train chunk:70 \n",
      "dataset:train chunk:71 \n",
      "dataset:train chunk:72 \n",
      "dataset:train chunk:73 \n",
      "dataset:train chunk:74 \n",
      "dataset:train chunk:75 \n",
      "dataset:train chunk:76 \n"
     ]
    }
   ],
   "source": [
    "missing_date_values = []\n",
    "\n",
    "num_types = ['uint8', 'int8', 'uint16', 'int16', 'uint32', 'int32', 'uint64', 'int64','float32', 'float64','object']\n",
    "# 'bool' - rhdf5 has problems translating bools from hdf5 files\n",
    "\n",
    "dtypes_dict = dict()\n",
    "# keys = col, values = (0 if type initially int64, 9 if type initially float64, 11 if type initially O)\n",
    "init_type = {np.dtype('int64'):num_types.index('uint8'),\n",
    "             np.dtype('float64'):num_types.index('float32'),\n",
    "             np.dtype('object'):num_types.index('object')}\n",
    "\n",
    "datetime_col_errors_dict = dict()\n",
    "\n",
    "datetime_col_errors_tup = dict()\n",
    "\n",
    "for dataset in datasets: #\n",
    "    \n",
    "    csv_chunks = pd.read_csv(r\"..\\expedia_data\\{0}.csv\".format(dataset), chunksize=500000 )\n",
    "    count =0\n",
    "    for chunk in csv_chunks:\n",
    "        \n",
    "        count +=1\n",
    "        print( \"dataset:{0} chunk:{1} \".format(dataset,count) )\n",
    "        for col in chunk.columns:\n",
    "\n",
    "            if col not in dtypes_dict.keys():\n",
    "                dtypes_dict[col] = init_type[ chunk[col].dtype ]\n",
    "\n",
    "            # float64 and int 64\n",
    "            if chunk[col].dtype in [np.dtype('int64'),np.dtype('float64')]:\n",
    "                a = False\n",
    "                while(dtypes_dict[col]<11 and a==False):\n",
    "\n",
    "                    a = all( chunk[ col ].dropna().astype( num_types[ dtypes_dict[col] ] )==chunk[ col ].dropna() )\n",
    "                    if a==False:\n",
    "                        dtypes_dict[col] += 1\n",
    "            # object - all assumed to be datetime\n",
    "            elif chunk[col].dtype == np.dtype('object'):\n",
    "                \n",
    "                \n",
    "                # faster to go through the entire thing looking for issues ... or to try to convert\n",
    "                try:\n",
    "                    pd.to_datetime(chunk[col])\n",
    "                except ValueError:\n",
    "                    chunk_pos = 0\n",
    "                    for el in chunk[col]: # check every element in the offending column!\n",
    "                        try:\n",
    "                            pd.to_datetime(el)\n",
    "                        except ValueError:\n",
    "                            # add value to DataFrame - id, col, value\n",
    "    #                         if no_datetime_errors_found == True:\n",
    "    #                             datetime_col_errors = pd.DataFrame( [el.index[0],col,el] )\n",
    "    #                             datetime_col_errors.columns=('id','column','value')\n",
    "\n",
    "                            tup = ( chunk.iloc[chunk_pos][\"srch_ci\"], chunk.iloc[chunk_pos][\"srch_co\"] )\n",
    "                            row_id = 1 ### place holder!\n",
    "    #                             no_datetime_errors_found = False:\n",
    "    #                         else:\n",
    "    #                             datetime_col_errors.loc[len(datetime_col_errors)] = [el.index[0],col,el]  \n",
    "\n",
    "                            if col not in datetime_col_errors_dict.keys():\n",
    "                                datetime_col_errors_dict[col] = [ el ]\n",
    "                            else:\n",
    "                                if el not in datetime_col_errors_dict[col]:\n",
    "                                    datetime_col_errors_dict[col].append( el )    \n",
    "    \n",
    "                            if tup not in datetime_col_errors_tup.keys():\n",
    "                                datetime_col_errors_tup[tup] = [  row_id  ]\n",
    "                            else:\n",
    "                                if row_id not in datetime_col_errors_tup[tup]:\n",
    "                                    datetime_col_errors_tup[tup].append(row_id)\n",
    "\n",
    "                                    \n",
    "                        chunk_pos = chunk_pos + 1\n",
    "                    # now convert and coerce column\n",
    "                    # nope - wrong time to do conversion!\n",
    "                    # WARNING if <20% of dates work?\n",
    "                 \n",
    "                    \n",
    "            else:\n",
    "                raise ValueError('chunk[col] not equal to float64, int64, object')\n",
    "                \n",
    "\n",
    "# could we save this here?\n",
    "# num_types, dtypes_dict\n",
    "filename = \"dtypes.pkl\"\n",
    "with open(filename, 'wb') as output:\n",
    "    pickle.dump( ( num_types, dtypes_dict ) ,\n",
    "                output,\n",
    "                pickle.HIGHEST_PROTOCOL)\n",
    "    \n",
    "    "
   ]
  },
  {
   "cell_type": "code",
   "execution_count": 6,
   "metadata": {
    "collapsed": false
   },
   "outputs": [
    {
     "data": {
      "text/plain": [
       "{'srch_ci': ['2161-10-00',\n",
       "  '2557-08-15',\n",
       "  '2557-04-06',\n",
       "  '2558-03-15',\n",
       "  '2557-11-14'],\n",
       " 'srch_co': ['2557-08-17', '2557-04-07', '2558-03-16', '2557-11-15']}"
      ]
     },
     "execution_count": 6,
     "metadata": {},
     "output_type": "execute_result"
    }
   ],
   "source": [
    "datetime_col_errors_dict"
   ]
  },
  {
   "cell_type": "code",
   "execution_count": 7,
   "metadata": {
    "collapsed": false
   },
   "outputs": [
    {
     "data": {
      "text/plain": [
       "{('2161-10-00', '2016-01-22'): [1],\n",
       " ('2557-04-06', '2557-04-07'): [1],\n",
       " ('2557-08-15', '2557-08-17'): [1],\n",
       " ('2557-11-14', '2557-11-15'): [1],\n",
       " ('2558-03-15', '2558-03-16'): [1]}"
      ]
     },
     "execution_count": 7,
     "metadata": {},
     "output_type": "execute_result"
    }
   ],
   "source": [
    "datetime_col_errors_tup"
   ]
  },
  {
   "cell_type": "code",
   "execution_count": null,
   "metadata": {
    "collapsed": true
   },
   "outputs": [],
   "source": [
    "# take these date errors\n",
    "# if there's a parse error\n",
    "#    try replacing the year with \"1980-\" and parsing that\n",
    "#    if that still fails, then return NaT"
   ]
  },
  {
   "cell_type": "code",
   "execution_count": null,
   "metadata": {
    "collapsed": true
   },
   "outputs": [],
   "source": [
    "# turn all dates into Year/Month/Day\n",
    "# calculate stay-span (co-ci).days, booking-span (ci-datetime).days\n",
    "\n",
    "# sparse DataFrame?? \"error mask\"\n",
    "# error codes - N/A full date, N/A in year, date-out-of-bounds, co-before-ci, stay-too-large"
   ]
  },
  {
   "cell_type": "code",
   "execution_count": 16,
   "metadata": {
    "collapsed": false
   },
   "outputs": [
    {
     "ename": "SyntaxError",
     "evalue": "invalid syntax (<ipython-input-16-d8342db458b2>, line 1)",
     "output_type": "error",
     "traceback": [
      "\u001b[1;36m  File \u001b[1;32m\"<ipython-input-16-d8342db458b2>\"\u001b[1;36m, line \u001b[1;32m1\u001b[0m\n\u001b[1;33m    print xgb.cv(params, xgtrain, 1000, nfold=5, feval= mapk5, early_stopping_rounds=50)\u001b[0m\n\u001b[1;37m            ^\u001b[0m\n\u001b[1;31mSyntaxError\u001b[0m\u001b[1;31m:\u001b[0m invalid syntax\n"
     ]
    }
   ],
   "source": []
  },
  {
   "cell_type": "code",
   "execution_count": 15,
   "metadata": {
    "collapsed": false
   },
   "outputs": [
    {
     "data": {
      "text/plain": [
       "Timestamp('1980-04-06 00:00:00')"
      ]
     },
     "execution_count": 15,
     "metadata": {},
     "output_type": "execute_result"
    }
   ],
   "source": [
    "pd.to_datetime( '1980-04-06' )\n",
    "\n"
   ]
  },
  {
   "cell_type": "code",
   "execution_count": null,
   "metadata": {
    "collapsed": true
   },
   "outputs": [],
   "source": []
  },
  {
   "cell_type": "code",
   "execution_count": 8,
   "metadata": {
    "collapsed": true
   },
   "outputs": [],
   "source": [
    "filename = \"datetime_col_errors_dict\"\n",
    "with open(r\"..\\expedia_data\\{0}.csv\".format(filename), 'w') as f:\n",
    "    w = csv.DictWriter(f, datetime_col_errors_dict.keys())\n",
    "    w.writeheader()\n",
    "    w.writerow(datetime_col_errors_dict)"
   ]
  },
  {
   "cell_type": "code",
   "execution_count": 9,
   "metadata": {
    "collapsed": true
   },
   "outputs": [],
   "source": [
    "filename = \"datetime_col_errors_tup\"\n",
    "with open(r\"..\\expedia_data\\{0}.csv\".format(filename), 'w') as f:\n",
    "    w = csv.DictWriter(f, datetime_col_errors_tup.keys())\n",
    "    w.writeheader()\n",
    "    w.writerow(datetime_col_errors_tup)"
   ]
  },
  {
   "cell_type": "raw",
   "metadata": {},
   "source": [
    "LOADING (AND CONVERTING) THE DATASET "
   ]
  },
  {
   "cell_type": "code",
   "execution_count": null,
   "metadata": {
    "collapsed": false
   },
   "outputs": [],
   "source": []
  },
  {
   "cell_type": "code",
   "execution_count": 14,
   "metadata": {
    "collapsed": true
   },
   "outputs": [],
   "source": [
    "filename = \"dtypes.pkl\"\n",
    "with open(filename, 'rb') as output:\n",
    "    ( num_types, dtypes_dict ) = pickle.load( output)\n",
    "    "
   ]
  },
  {
   "cell_type": "code",
   "execution_count": 54,
   "metadata": {
    "collapsed": false
   },
   "outputs": [
    {
     "name": "stdout",
     "output_type": "stream",
     "text": [
      "chunk:  0\n",
      "<class 'pandas.core.frame.DataFrame'>\n",
      "RangeIndex: 500000 entries, 0 to 499999\n",
      "Data columns (total 22 columns):\n",
      "id                           500000 non-null uint32\n",
      "date_time                    500000 non-null datetime64[ns]\n",
      "site_name                    500000 non-null uint8\n",
      "posa_continent               500000 non-null uint8\n",
      "user_location_country        500000 non-null uint8\n",
      "user_location_region         500000 non-null uint16\n",
      "user_location_city           500000 non-null uint16\n",
      "orig_destination_distance    332845 non-null float64\n",
      "user_id                      500000 non-null uint32\n",
      "is_mobile                    500000 non-null uint8\n",
      "is_package                   500000 non-null uint8\n",
      "channel                      500000 non-null uint8\n",
      "srch_ci                      499995 non-null datetime64[ns]\n",
      "srch_co                      499996 non-null datetime64[ns]\n",
      "srch_adults_cnt              500000 non-null uint8\n",
      "srch_children_cnt            500000 non-null uint8\n",
      "srch_rm_cnt                  500000 non-null uint8\n",
      "srch_destination_id          500000 non-null uint32\n",
      "srch_destination_type_id     500000 non-null uint8\n",
      "hotel_continent              500000 non-null uint8\n",
      "hotel_country                500000 non-null uint8\n",
      "hotel_market                 500000 non-null uint16\n",
      "dtypes: datetime64[ns](3), float64(1), uint16(3), uint32(3), uint8(12)\n",
      "memory usage: 29.6 MB\n",
      "chunk:  1\n",
      "chunk:  2\n",
      "chunk:  3\n",
      "chunk:  4\n",
      "chunk:  5\n",
      "91.16947880170474\n",
      "id                                   uint32\n",
      "date_time                    datetime64[ns]\n",
      "site_name                             uint8\n",
      "posa_continent                        uint8\n",
      "user_location_country                 uint8\n",
      "user_location_region                 uint16\n",
      "user_location_city                   uint16\n",
      "orig_destination_distance           float64\n",
      "user_id                              uint32\n",
      "is_mobile                             uint8\n",
      "is_package                            uint8\n",
      "channel                               uint8\n",
      "srch_ci                      datetime64[ns]\n",
      "srch_co                      datetime64[ns]\n",
      "srch_adults_cnt                       uint8\n",
      "srch_children_cnt                     uint8\n",
      "srch_rm_cnt                           uint8\n",
      "srch_destination_id                  uint32\n",
      "srch_destination_type_id              uint8\n",
      "hotel_continent                       uint8\n",
      "hotel_country                         uint8\n",
      "hotel_market                         uint16\n",
      "dtype: object\n",
      "chunk:  0\n",
      "<class 'pandas.core.frame.DataFrame'>\n",
      "RangeIndex: 500000 entries, 0 to 499999\n",
      "Data columns (total 24 columns):\n",
      "date_time                    500000 non-null datetime64[ns]\n",
      "site_name                    500000 non-null uint8\n",
      "posa_continent               500000 non-null uint8\n",
      "user_location_country        500000 non-null uint8\n",
      "user_location_region         500000 non-null uint16\n",
      "user_location_city           500000 non-null uint16\n",
      "orig_destination_distance    317683 non-null float64\n",
      "user_id                      500000 non-null uint32\n",
      "is_mobile                    500000 non-null uint8\n",
      "is_package                   500000 non-null uint8\n",
      "channel                      500000 non-null uint8\n",
      "srch_ci                      499493 non-null datetime64[ns]\n",
      "srch_co                      499493 non-null datetime64[ns]\n",
      "srch_adults_cnt              500000 non-null uint8\n",
      "srch_children_cnt            500000 non-null uint8\n",
      "srch_rm_cnt                  500000 non-null uint8\n",
      "srch_destination_id          500000 non-null uint32\n",
      "srch_destination_type_id     500000 non-null uint8\n",
      "is_booking                   500000 non-null uint8\n",
      "cnt                          500000 non-null uint16\n",
      "hotel_continent              500000 non-null uint8\n",
      "hotel_country                500000 non-null uint8\n",
      "hotel_market                 500000 non-null uint16\n",
      "hotel_cluster                500000 non-null uint8\n",
      "dtypes: datetime64[ns](3), float64(1), uint16(4), uint32(2), uint8(14)\n",
      "memory usage: 29.6 MB\n",
      "chunk:  1\n",
      "chunk:  2\n",
      "chunk:  3\n",
      "chunk:  4\n",
      "chunk:  5\n",
      "chunk:  6\n",
      "chunk:  7\n",
      "chunk:  8\n",
      "chunk:  9\n",
      "chunk:  10\n",
      "<class 'pandas.core.frame.DataFrame'>\n",
      "RangeIndex: 5500000 entries, 0 to 5499999\n",
      "Data columns (total 24 columns):\n",
      "date_time                    datetime64[ns]\n",
      "site_name                    uint8\n",
      "posa_continent               uint8\n",
      "user_location_country        uint8\n",
      "user_location_region         uint16\n",
      "user_location_city           uint16\n",
      "orig_destination_distance    float64\n",
      "user_id                      uint32\n",
      "is_mobile                    uint8\n",
      "is_package                   uint8\n",
      "channel                      uint8\n",
      "srch_ci                      datetime64[ns]\n",
      "srch_co                      datetime64[ns]\n",
      "srch_adults_cnt              uint8\n",
      "srch_children_cnt            uint8\n",
      "srch_rm_cnt                  uint8\n",
      "srch_destination_id          uint32\n",
      "srch_destination_type_id     uint8\n",
      "is_booking                   uint8\n",
      "cnt                          uint16\n",
      "hotel_continent              uint8\n",
      "hotel_country                uint8\n",
      "hotel_market                 uint16\n",
      "hotel_cluster                uint8\n",
      "dtypes: datetime64[ns](3), float64(1), uint16(4), uint32(2), uint8(14)\n",
      "memory usage: 325.2 MB\n",
      "chunk:  11\n",
      "chunk:  12\n",
      "chunk:  13\n",
      "chunk:  14\n",
      "chunk:  15\n",
      "chunk:  16\n",
      "chunk:  17\n",
      "chunk:  18\n",
      "chunk:  19\n",
      "chunk:  20\n",
      "<class 'pandas.core.frame.DataFrame'>\n",
      "RangeIndex: 10500000 entries, 0 to 10499999\n",
      "Data columns (total 24 columns):\n",
      "date_time                    datetime64[ns]\n",
      "site_name                    uint8\n",
      "posa_continent               uint8\n",
      "user_location_country        uint8\n",
      "user_location_region         uint16\n",
      "user_location_city           uint16\n",
      "orig_destination_distance    float64\n",
      "user_id                      uint32\n",
      "is_mobile                    uint8\n",
      "is_package                   uint8\n",
      "channel                      uint8\n",
      "srch_ci                      datetime64[ns]\n",
      "srch_co                      datetime64[ns]\n",
      "srch_adults_cnt              uint8\n",
      "srch_children_cnt            uint8\n",
      "srch_rm_cnt                  uint8\n",
      "srch_destination_id          uint32\n",
      "srch_destination_type_id     uint8\n",
      "is_booking                   uint8\n",
      "cnt                          uint16\n",
      "hotel_continent              uint8\n",
      "hotel_country                uint8\n",
      "hotel_market                 uint16\n",
      "hotel_cluster                uint8\n",
      "dtypes: datetime64[ns](3), float64(1), uint16(4), uint32(2), uint8(14)\n",
      "memory usage: 620.8 MB\n",
      "chunk:  21\n",
      "chunk:  22\n",
      "chunk:  23\n",
      "chunk:  24\n",
      "chunk:  25\n",
      "chunk:  26\n",
      "chunk:  27\n",
      "chunk:  28\n",
      "chunk:  29\n",
      "chunk:  30\n",
      "<class 'pandas.core.frame.DataFrame'>\n",
      "RangeIndex: 15500000 entries, 0 to 15499999\n",
      "Data columns (total 24 columns):\n",
      "date_time                    datetime64[ns]\n",
      "site_name                    uint8\n",
      "posa_continent               uint8\n",
      "user_location_country        uint8\n",
      "user_location_region         uint16\n",
      "user_location_city           uint16\n",
      "orig_destination_distance    float64\n",
      "user_id                      uint32\n",
      "is_mobile                    uint8\n",
      "is_package                   uint8\n",
      "channel                      uint8\n",
      "srch_ci                      datetime64[ns]\n",
      "srch_co                      datetime64[ns]\n",
      "srch_adults_cnt              uint8\n",
      "srch_children_cnt            uint8\n",
      "srch_rm_cnt                  uint8\n",
      "srch_destination_id          uint32\n",
      "srch_destination_type_id     uint8\n",
      "is_booking                   uint8\n",
      "cnt                          uint16\n",
      "hotel_continent              uint8\n",
      "hotel_country                uint8\n",
      "hotel_market                 uint16\n",
      "hotel_cluster                uint8\n",
      "dtypes: datetime64[ns](3), float64(1), uint16(4), uint32(2), uint8(14)\n",
      "memory usage: 916.5 MB\n",
      "chunk:  31\n",
      "chunk:  32\n",
      "chunk:  33\n",
      "chunk:  34\n",
      "chunk:  35\n",
      "chunk:  36\n",
      "chunk:  37\n",
      "chunk:  38\n",
      "chunk:  39\n",
      "chunk:  40\n",
      "<class 'pandas.core.frame.DataFrame'>\n",
      "RangeIndex: 20500000 entries, 0 to 20499999\n",
      "Data columns (total 24 columns):\n",
      "date_time                    datetime64[ns]\n",
      "site_name                    uint8\n",
      "posa_continent               uint8\n",
      "user_location_country        uint8\n",
      "user_location_region         uint16\n",
      "user_location_city           uint16\n",
      "orig_destination_distance    float64\n",
      "user_id                      uint32\n",
      "is_mobile                    uint8\n",
      "is_package                   uint8\n",
      "channel                      uint8\n",
      "srch_ci                      datetime64[ns]\n",
      "srch_co                      datetime64[ns]\n",
      "srch_adults_cnt              uint8\n",
      "srch_children_cnt            uint8\n",
      "srch_rm_cnt                  uint8\n",
      "srch_destination_id          uint32\n",
      "srch_destination_type_id     uint8\n",
      "is_booking                   uint8\n",
      "cnt                          uint16\n",
      "hotel_continent              uint8\n",
      "hotel_country                uint8\n",
      "hotel_market                 uint16\n",
      "hotel_cluster                uint8\n",
      "dtypes: datetime64[ns](3), float64(1), uint16(4), uint32(2), uint8(14)\n",
      "memory usage: 1.2 GB\n",
      "chunk:  41\n",
      "chunk:  42\n",
      "chunk:  43\n",
      "chunk:  44\n",
      "chunk:  45\n",
      "chunk:  46\n",
      "chunk:  47\n",
      "chunk:  48\n",
      "chunk:  49\n",
      "chunk:  50\n",
      "<class 'pandas.core.frame.DataFrame'>\n",
      "RangeIndex: 25500000 entries, 0 to 25499999\n",
      "Data columns (total 24 columns):\n",
      "date_time                    datetime64[ns]\n",
      "site_name                    uint8\n",
      "posa_continent               uint8\n",
      "user_location_country        uint8\n",
      "user_location_region         uint16\n",
      "user_location_city           uint16\n",
      "orig_destination_distance    float64\n",
      "user_id                      uint32\n",
      "is_mobile                    uint8\n",
      "is_package                   uint8\n",
      "channel                      uint8\n",
      "srch_ci                      datetime64[ns]\n",
      "srch_co                      datetime64[ns]\n",
      "srch_adults_cnt              uint8\n",
      "srch_children_cnt            uint8\n",
      "srch_rm_cnt                  uint8\n",
      "srch_destination_id          uint32\n",
      "srch_destination_type_id     uint8\n",
      "is_booking                   uint8\n",
      "cnt                          uint16\n",
      "hotel_continent              uint8\n",
      "hotel_country                uint8\n",
      "hotel_market                 uint16\n",
      "hotel_cluster                uint8\n",
      "dtypes: datetime64[ns](3), float64(1), uint16(4), uint32(2), uint8(14)\n",
      "memory usage: 1.5 GB\n",
      "chunk:  51\n",
      "chunk:  52\n",
      "chunk:  53\n",
      "chunk:  54\n",
      "chunk:  55\n",
      "chunk:  56\n",
      "chunk:  57\n",
      "chunk:  58\n",
      "chunk:  59\n",
      "chunk:  60\n",
      "<class 'pandas.core.frame.DataFrame'>\n",
      "RangeIndex: 30500000 entries, 0 to 30499999\n",
      "Data columns (total 24 columns):\n",
      "date_time                    datetime64[ns]\n",
      "site_name                    uint8\n",
      "posa_continent               uint8\n",
      "user_location_country        uint8\n",
      "user_location_region         uint16\n",
      "user_location_city           uint16\n",
      "orig_destination_distance    float64\n",
      "user_id                      uint32\n",
      "is_mobile                    uint8\n",
      "is_package                   uint8\n",
      "channel                      uint8\n",
      "srch_ci                      datetime64[ns]\n",
      "srch_co                      datetime64[ns]\n",
      "srch_adults_cnt              uint8\n",
      "srch_children_cnt            uint8\n",
      "srch_rm_cnt                  uint8\n",
      "srch_destination_id          uint32\n",
      "srch_destination_type_id     uint8\n",
      "is_booking                   uint8\n",
      "cnt                          uint16\n",
      "hotel_continent              uint8\n",
      "hotel_country                uint8\n",
      "hotel_market                 uint16\n",
      "hotel_cluster                uint8\n",
      "dtypes: datetime64[ns](3), float64(1), uint16(4), uint32(2), uint8(14)\n",
      "memory usage: 1.8 GB\n",
      "chunk:  61\n",
      "chunk:  62\n",
      "chunk:  63\n",
      "chunk:  64\n",
      "chunk:  65\n",
      "chunk:  66\n",
      "chunk:  67\n",
      "chunk:  68\n",
      "chunk:  69\n",
      "chunk:  70\n",
      "<class 'pandas.core.frame.DataFrame'>\n",
      "RangeIndex: 35500000 entries, 0 to 35499999\n",
      "Data columns (total 24 columns):\n",
      "date_time                    datetime64[ns]\n",
      "site_name                    uint8\n",
      "posa_continent               uint8\n",
      "user_location_country        uint8\n",
      "user_location_region         uint16\n",
      "user_location_city           uint16\n",
      "orig_destination_distance    float64\n",
      "user_id                      uint32\n",
      "is_mobile                    uint8\n",
      "is_package                   uint8\n",
      "channel                      uint8\n",
      "srch_ci                      datetime64[ns]\n",
      "srch_co                      datetime64[ns]\n",
      "srch_adults_cnt              uint8\n",
      "srch_children_cnt            uint8\n",
      "srch_rm_cnt                  uint8\n",
      "srch_destination_id          uint32\n",
      "srch_destination_type_id     uint8\n",
      "is_booking                   uint8\n",
      "cnt                          uint16\n",
      "hotel_continent              uint8\n",
      "hotel_country                uint8\n",
      "hotel_market                 uint16\n",
      "hotel_cluster                uint8\n",
      "dtypes: datetime64[ns](3), float64(1), uint16(4), uint32(2), uint8(14)\n",
      "memory usage: 2.0 GB\n",
      "chunk:  71\n",
      "chunk:  72\n",
      "chunk:  73\n",
      "chunk:  74\n",
      "chunk:  75\n",
      "678.1854839023473\n",
      "date_time                    datetime64[ns]\n",
      "site_name                             uint8\n",
      "posa_continent                        uint8\n",
      "user_location_country                 uint8\n",
      "user_location_region                 uint16\n",
      "user_location_city                   uint16\n",
      "orig_destination_distance           float64\n",
      "user_id                              uint32\n",
      "is_mobile                             uint8\n",
      "is_package                            uint8\n",
      "channel                               uint8\n",
      "srch_ci                      datetime64[ns]\n",
      "srch_co                      datetime64[ns]\n",
      "srch_adults_cnt                       uint8\n",
      "srch_children_cnt                     uint8\n",
      "srch_rm_cnt                           uint8\n",
      "srch_destination_id                  uint32\n",
      "srch_destination_type_id              uint8\n",
      "is_booking                            uint8\n",
      "cnt                                  uint16\n",
      "hotel_continent                       uint8\n",
      "hotel_country                         uint8\n",
      "hotel_market                         uint16\n",
      "hotel_cluster                         uint8\n",
      "dtype: object\n"
     ]
    }
   ],
   "source": [
    "for dataset in datasets: \n",
    "    start = time.clock()\n",
    "\n",
    "    started = False\n",
    "    count = 0\n",
    "\n",
    "    dtypes_dict_str = {key: num_types[value] for (key, value) in dtypes_dict.items()}\n",
    "\n",
    "    date_columns = [key for key, value in dtypes_dict_str.items() if value == 'object']\n",
    "\n",
    "#     dataset = 'train'\n",
    "\n",
    "    csv_chunks = pd.read_csv(r\"..\\expedia_data\\{0}.csv\".format(dataset),\n",
    "                             chunksize=500000,\n",
    "                             dtype = dtypes_dict_str,\n",
    "                             parse_dates= date_columns,\n",
    "                             infer_datetime_format=True,\n",
    "                             date_parser=custom_parser)\n",
    "#                              na_values= datetime_col_errors_dict)\n",
    "\n",
    "    for chunk in csv_chunks:\n",
    "        print(\"chunk: \",count)    \n",
    "        if count == 0:\n",
    "            df=chunk\n",
    "            #started=True\n",
    "\n",
    "        else:\n",
    "            df = df.append(chunk,verify_integrity=True, ignore_index=True)\n",
    "            \n",
    "        if count % 10==0:\n",
    "            df.info(memory_usage='deep')\n",
    "\n",
    "\n",
    "        count = count + 1\n",
    "\n",
    "    # \"date_time\", \"srch_ci\", \"srch_co\"\n",
    "\n",
    "    #df = pd.concat(chunk for chunk in csv_chunks)\n",
    "\n",
    "    end = time.clock()\n",
    "    print(end - start)\n",
    "    \n",
    "    print(df.dtypes)\n",
    "\n",
    "    ## turning datetime objects into integer features!\n",
    "#     date_time_props = [\"year\", \"month\", \"day\"]\n",
    "#     #[\"month\", \"day\", \"hour\", \"minute\", \"dayofweek\", \"quarter\"]\n",
    "#     for prop in date_time_props:\n",
    "#         df[prop] = getattr(df[\"date_time\"].dt, prop)\n",
    "# #         if val.isnan():\n",
    "# #             df[prop] = getattr(df[\"date_time\"].dt, prop)\n",
    "# #         else:\n",
    "# #             df[prop] = getattr(df[\"date_time\"].dt, prop).astype('uint16')\n",
    "\n",
    "\n",
    "#     date_props = [\"year\", \"month\", \"day\"]\n",
    "#     #[\"month\", \"day\", \"dayofweek\", \"quarter\"]\n",
    "#     for prop in date_props:\n",
    "#         df[\"ci_{0}\".format(prop)] = getattr(df[\"srch_ci\"].dt, prop)#.astype('uint16')   \n",
    "#         df[\"co_{0}\".format(prop)] = getattr(df[\"srch_co\"].dt, prop)#.astype('uint16')\n",
    "\n",
    "#     df[\"stay_span\"] =( (df[\"srch_co\"] - df[\"srch_ci\"]) /np.timedelta64(1,'D') )#.astype('int16')    \n",
    "#     df[\"booking_distance\"] =( (df[\"srch_ci\"] - df[\"date_time\"]) /np.timedelta64(1,'D') )#.astype('int16')    \n",
    "    \n",
    "#     df.drop(\"date_time\", axis=1, inplace=True)\n",
    "#     df.drop(\"srch_ci\", axis=1, inplace=True)\n",
    "#     df.drop(\"srch_co\", axis=1, inplace=True)\n",
    "#     print(df.dtypes)    \n",
    "    \n",
    "    df.to_hdf(r\"..\\expedia_data\\{0}_as_hdf.h5\".format(dataset),'train',format='fixed',mode='w')\n",
    "    del(df)\n",
    "    "
   ]
  },
  {
   "cell_type": "code",
   "execution_count": null,
   "metadata": {
    "collapsed": true
   },
   "outputs": [],
   "source": []
  },
  {
   "cell_type": "code",
   "execution_count": null,
   "metadata": {
    "collapsed": false
   },
   "outputs": [],
   "source": []
  },
  {
   "cell_type": "raw",
   "metadata": {},
   "source": [
    "SAVING THE RESULTs"
   ]
  },
  {
   "cell_type": "code",
   "execution_count": null,
   "metadata": {
    "collapsed": false
   },
   "outputs": [],
   "source": [
    "\n"
   ]
  },
  {
   "cell_type": "code",
   "execution_count": 5,
   "metadata": {
    "collapsed": true
   },
   "outputs": [],
   "source": [
    "# filename = train_as_hdf_smaller\n",
    "# df.to_hdf(r\"..\\expedia_data\\{0}.h5\".format(filename),'train',format='fixed',mode='w', complevel=9,complib='bzip2')"
   ]
  },
  {
   "cell_type": "raw",
   "metadata": {},
   "source": [
    "TESTNG THE RESULTS\n",
    "# How to read the hdf5 file into a python pandas DataFrame"
   ]
  },
  {
   "cell_type": "code",
   "execution_count": 2,
   "metadata": {
    "collapsed": false
   },
   "outputs": [
    {
     "name": "stdout",
     "output_type": "stream",
     "text": [
      "<class 'pandas.core.frame.DataFrame'>\n",
      "Int64Index: 37670293 entries, 0 to 37670292\n",
      "Data columns (total 24 columns):\n",
      "date_time                    datetime64[ns]\n",
      "site_name                    uint8\n",
      "posa_continent               uint8\n",
      "user_location_country        uint8\n",
      "user_location_region         uint16\n",
      "user_location_city           uint16\n",
      "orig_destination_distance    float64\n",
      "user_id                      uint32\n",
      "is_mobile                    uint8\n",
      "is_package                   uint8\n",
      "channel                      uint8\n",
      "srch_ci                      datetime64[ns]\n",
      "srch_co                      datetime64[ns]\n",
      "srch_adults_cnt              uint8\n",
      "srch_children_cnt            uint8\n",
      "srch_rm_cnt                  uint8\n",
      "srch_destination_id          uint32\n",
      "srch_destination_type_id     uint8\n",
      "is_booking                   uint8\n",
      "cnt                          uint16\n",
      "hotel_continent              uint8\n",
      "hotel_country                uint8\n",
      "hotel_market                 uint16\n",
      "hotel_cluster                uint8\n",
      "dtypes: datetime64[ns](3), float64(1), uint16(4), uint32(2), uint8(14)\n",
      "memory usage: 2.5 GB\n"
     ]
    }
   ],
   "source": [
    "\n",
    "filename = 'train_as_hdf'\n",
    "train = pd.read_hdf(r\"..\\expedia_data\\{0}.h5\".format(filename))\n",
    "train.info(memory_usage='deep')"
   ]
  },
  {
   "cell_type": "code",
   "execution_count": 6,
   "metadata": {
    "collapsed": false
   },
   "outputs": [
    {
     "name": "stdout",
     "output_type": "stream",
     "text": [
      "<class 'pandas.core.frame.DataFrame'>\n",
      "Int64Index: 37623199 entries, 0 to 37670292\n",
      "Data columns (total 24 columns):\n",
      "date_time                    datetime64[ns]\n",
      "site_name                    uint8\n",
      "posa_continent               uint8\n",
      "user_location_country        uint8\n",
      "user_location_region         uint16\n",
      "user_location_city           uint16\n",
      "orig_destination_distance    float64\n",
      "user_id                      uint32\n",
      "is_mobile                    uint8\n",
      "is_package                   uint8\n",
      "channel                      uint8\n",
      "srch_ci                      datetime64[ns]\n",
      "srch_co                      datetime64[ns]\n",
      "srch_adults_cnt              uint8\n",
      "srch_children_cnt            uint8\n",
      "srch_rm_cnt                  uint8\n",
      "srch_destination_id          uint32\n",
      "srch_destination_type_id     uint8\n",
      "is_booking                   uint8\n",
      "cnt                          uint16\n",
      "hotel_continent              uint8\n",
      "hotel_country                uint8\n",
      "hotel_market                 uint16\n",
      "hotel_cluster                uint8\n",
      "dtypes: datetime64[ns](3), float64(1), uint16(4), uint32(2), uint8(14)\n",
      "memory usage: 2.5 GB\n"
     ]
    }
   ],
   "source": [
    "filename = 'train_date_na_rows_removed'\n",
    "train = pd.read_hdf(r\"..\\expedia_data\\{0}.h5\".format(filename))\n",
    "train.info(memory_usage='deep')"
   ]
  },
  {
   "cell_type": "code",
   "execution_count": 10,
   "metadata": {
    "collapsed": false
   },
   "outputs": [
    {
     "data": {
      "text/plain": [
       "Timestamp('2012-02-15 00:00:00')"
      ]
     },
     "execution_count": 10,
     "metadata": {},
     "output_type": "execute_result"
    }
   ],
   "source": [
    "train[\"srch_ci\"].min()"
   ]
  },
  {
   "cell_type": "code",
   "execution_count": 11,
   "metadata": {
    "collapsed": false
   },
   "outputs": [
    {
     "ename": "NameError",
     "evalue": "name 'Timestamp' is not defined",
     "output_type": "error",
     "traceback": [
      "\u001b[1;31m---------------------------------------------------------------------------\u001b[0m",
      "\u001b[1;31mNameError\u001b[0m                                 Traceback (most recent call last)",
      "\u001b[1;32m<ipython-input-11-aa12b5ef3a6b>\u001b[0m in \u001b[0;36m<module>\u001b[1;34m()\u001b[0m\n\u001b[1;32m----> 1\u001b[1;33m \u001b[0mTimestamp\u001b[0m\u001b[1;33m(\u001b[0m\u001b[1;34m'2012-02-15 00:00:00'\u001b[0m\u001b[1;33m)\u001b[0m\u001b[1;33m\u001b[0m\u001b[0m\n\u001b[0m",
      "\u001b[1;31mNameError\u001b[0m: name 'Timestamp' is not defined"
     ]
    }
   ],
   "source": []
  },
  {
   "cell_type": "code",
   "execution_count": 7,
   "metadata": {
    "collapsed": false
   },
   "outputs": [
    {
     "data": {
      "text/plain": [
       "<matplotlib.axes._subplots.AxesSubplot at 0xac7a6a0>"
      ]
     },
     "execution_count": 7,
     "metadata": {},
     "output_type": "execute_result"
    },
    {
     "data": {
      "image/png": "[encoded data removed]",
      "text/plain": [
       "<matplotlib.figure.Figure at 0x5bb1f98>"
      ]
     },
     "metadata": {},
     "output_type": "display_data"
    }
   ],
   "source": [
    "data = train\n",
    "data[\"date_time\"].hist(bins=52,alpha=.3,figsize=(15,15))\n",
    "# plt.hist(data[\"date_time\"].values,bins=52,alpha=.3,label = \"date_time\")\n",
    "# #plt.hist(data[\"srch_ci\"].values,bins=52,alpha=.3,label = \"srch_ci\")\n",
    "# #plt.hist(data[\"srch_co\"].values,bins=52,alpha=.3,label = \"srch_co\")\n",
    "data[\"srch_ci\"].hist(bins=52,alpha=.3)\n",
    "data[\"srch_co\"].hist(bins=52,alpha=.3)"
   ]
  },
  {
   "cell_type": "code",
   "execution_count": 7,
   "metadata": {
    "collapsed": false
   },
   "outputs": [
    {
     "name": "stdout",
     "output_type": "stream",
     "text": [
      "<class 'pandas.core.frame.DataFrame'>\n",
      "Int64Index: 2528243 entries, 0 to 2528242\n",
      "Data columns (total 22 columns):\n",
      "id                           uint32\n",
      "date_time                    datetime64[ns]\n",
      "site_name                    uint8\n",
      "posa_continent               uint8\n",
      "user_location_country        uint8\n",
      "user_location_region         uint16\n",
      "user_location_city           uint16\n",
      "orig_destination_distance    float64\n",
      "user_id                      uint32\n",
      "is_mobile                    uint8\n",
      "is_package                   uint8\n",
      "channel                      uint8\n",
      "srch_ci                      datetime64[ns]\n",
      "srch_co                      datetime64[ns]\n",
      "srch_adults_cnt              uint8\n",
      "srch_children_cnt            uint8\n",
      "srch_rm_cnt                  uint8\n",
      "srch_destination_id          uint32\n",
      "srch_destination_type_id     uint8\n",
      "hotel_continent              uint8\n",
      "hotel_country                uint8\n",
      "hotel_market                 uint16\n",
      "dtypes: datetime64[ns](3), float64(1), uint16(3), uint32(3), uint8(12)\n",
      "memory usage: 168.8 MB\n"
     ]
    }
   ],
   "source": [
    "filename = 'test_as_hdf'\n",
    "test = pd.read_hdf(r\"..\\expedia_data\\{0}.h5\".format(filename))\n",
    "test.info(memory_usage='deep')"
   ]
  },
  {
   "cell_type": "code",
   "execution_count": 20,
   "metadata": {
    "collapsed": false
   },
   "outputs": [],
   "source": [
    "# save version with no nans in srch_ci, srch_co\n",
    "\n",
    "train.dropna(axis=0, how='any', subset=[\"srch_ci\",\"srch_co\"], inplace=True)"
   ]
  },
  {
   "cell_type": "code",
   "execution_count": 22,
   "metadata": {
    "collapsed": false
   },
   "outputs": [],
   "source": [
    "filename = 'train_date_na_rows_removed'\n",
    "\n",
    "train.to_csv(r\"..\\expedia_data\\{0}.csv\".format(filename) , index=False)"
   ]
  },
  {
   "cell_type": "code",
   "execution_count": 26,
   "metadata": {
    "collapsed": false
   },
   "outputs": [],
   "source": [
    "train.to_hdf(r\"..\\expedia_data\\{0}.h5\".format(filename),'train',format='fixed',mode='w')\n"
   ]
  },
  {
   "cell_type": "code",
   "execution_count": 25,
   "metadata": {
    "collapsed": false
   },
   "outputs": [
    {
     "name": "stdout",
     "output_type": "stream",
     "text": [
      "GradientBoostingClassifier\t HTML\t KFold\t LinearRegression\t LogisticRegression\t RandomForestClassifier\t SelectKBest\t StandardScaler\t StratifiedKFold\t \n",
      "a\t chunk\t chunk_pos\t col\t count\t cross_validation\t csv\t csv_chunks\t dataset\t \n",
      "datasets\t date_columns\t datetime\t datetime_col_errors_dict\t datetime_col_errors_tup\t display\t dtypes_dict\t dtypes_dict_str\t el\t \n",
      "end\t f\t f_classif\t filename\t gc\t init_type\t missing_date_values\t np\t num_types\t \n",
      "operator\t output\t pd\t pickle\t plt\t re\t row_id\t start\t started\t \n",
      "tables\t time\t train\t tup\t w\t \n"
     ]
    }
   ],
   "source": [
    "del(train)\n"
   ]
  },
  {
   "cell_type": "raw",
   "metadata": {
    "collapsed": true
   },
   "source": [
    "##### \n",
    "Create train_bookings_only dataset"
   ]
  },
  {
   "cell_type": "code",
   "execution_count": 8,
   "metadata": {
    "collapsed": true
   },
   "outputs": [],
   "source": [
    "train_bookings_only = train[train.is_booking==True]"
   ]
  },
  {
   "cell_type": "code",
   "execution_count": 9,
   "metadata": {
    "collapsed": false
   },
   "outputs": [
    {
     "data": {
      "text/plain": [
       "3000693"
      ]
     },
     "execution_count": 9,
     "metadata": {},
     "output_type": "execute_result"
    }
   ],
   "source": [
    "len(train_bookings_only)"
   ]
  },
  {
   "cell_type": "code",
   "execution_count": 10,
   "metadata": {
    "collapsed": true
   },
   "outputs": [],
   "source": [
    "filename = 'train_bookings_only'\n",
    "\n",
    "train_bookings_only.to_csv(r\"..\\expedia_data\\{0}.csv\".format(filename) , index=False)"
   ]
  },
  {
   "cell_type": "code",
   "execution_count": 11,
   "metadata": {
    "collapsed": false
   },
   "outputs": [
    {
     "name": "stdout",
     "output_type": "stream",
     "text": [
      "<class 'pandas.core.frame.DataFrame'>\n",
      "RangeIndex: 3000693 entries, 0 to 3000692\n",
      "Data columns (total 24 columns):\n",
      "date_time                    object\n",
      "site_name                    int64\n",
      "posa_continent               int64\n",
      "user_location_country        int64\n",
      "user_location_region         int64\n",
      "user_location_city           int64\n",
      "orig_destination_distance    float64\n",
      "user_id                      int64\n",
      "is_mobile                    int64\n",
      "is_package                   int64\n",
      "channel                      int64\n",
      "srch_ci                      object\n",
      "srch_co                      object\n",
      "srch_adults_cnt              int64\n",
      "srch_children_cnt            int64\n",
      "srch_rm_cnt                  int64\n",
      "srch_destination_id          int64\n",
      "srch_destination_type_id     int64\n",
      "is_booking                   int64\n",
      "cnt                          int64\n",
      "hotel_continent              int64\n",
      "hotel_country                int64\n",
      "hotel_market                 int64\n",
      "hotel_cluster                int64\n",
      "dtypes: float64(1), int64(20), object(3)\n",
      "memory usage: 1.1 GB\n"
     ]
    }
   ],
   "source": [
    "filename = 'train_bookings_only'\n",
    "train_bookings_only_test  = pd.read_csv( r\"..\\expedia_data\\{0}.csv\".format(filename) )\n",
    "train_bookings_only_test.info(memory_usage='deep')"
   ]
  },
  {
   "cell_type": "code",
   "execution_count": 5,
   "metadata": {
    "collapsed": false
   },
   "outputs": [
    {
     "data": {
      "text/plain": [
       "79"
      ]
     },
     "execution_count": 5,
     "metadata": {},
     "output_type": "execute_result"
    }
   ],
   "source": [
    "import gc\n",
    "gc.collect()"
   ]
  },
  {
   "cell_type": "code",
   "execution_count": null,
   "metadata": {
    "collapsed": true
   },
   "outputs": [],
   "source": []
  },
  {
   "cell_type": "code",
   "execution_count": null,
   "metadata": {
    "collapsed": false
   },
   "outputs": [],
   "source": []
  },
  {
   "cell_type": "code",
   "execution_count": null,
   "metadata": {
    "collapsed": true
   },
   "outputs": [],
   "source": []
  },
  {
   "cell_type": "code",
   "execution_count": null,
   "metadata": {
    "collapsed": true
   },
   "outputs": [],
   "source": []
  }
 ],
 "metadata": {
  "kernelspec": {
   "display_name": "Python 3",
   "language": "python",
   "name": "python3"
  },
  "language_info": {
   "codemirror_mode": {
    "name": "ipython",
    "version": 3
   },
   "file_extension": ".py",
   "mimetype": "text/x-python",
   "name": "python",
   "nbconvert_exporter": "python",
   "pygments_lexer": "ipython3",
   "version": "3.5.1"
  }
 },
 "nbformat": 4,
 "nbformat_minor": 0
}
