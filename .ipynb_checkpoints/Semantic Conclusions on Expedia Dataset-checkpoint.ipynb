{
 "cells": [
  {
   "cell_type": "raw",
   "metadata": {},
   "source": [
    "https://www.kaggle.com/c/expedia-hotel-recommendations/data\n",
    "    \n",
    "Expedia has provided you logs of customer behavior. These include what customers searched for, how they interacted with search results (click/book), whether or not the search result was a travel package. The data in this competition is a random selection from Expedia and is not representative of the overall statistics.\n",
    "\n",
    "Expedia is interested in predicting which hotel group a user is going to book. Expedia has in-house algorithms to form hotel clusters, where similar hotels for a search (based on historical price, customer star ratings, geographical locations relative to city center, etc) are grouped together. These hotel clusters serve as good identifiers to which types of hotels people are going to book, while avoiding outliers such as new hotels that don't have historical data.\n",
    "\n",
    "Your goal of this competition is to predict the booking outcome (hotel cluster) for a user event, based on their search and other attributes associated with that user event.\n",
    "\n",
    "The train and test datasets are split based on time: training data from 2013 and 2014, while test data are from 2015. The public/private leaderboard data are split base on time as well. Training data includes all the users in the logs, including both click events and booking events. Test data only includes booking events. \n",
    "\n",
    "destinations.csv data consists of features extracted from hotel reviews text. \n",
    "\n",
    "Note that some srch_destination_id's in the train/test files don't exist in the destinations.csv file. This is because some hotels are new and don't have enough features in the latent space. Your algorithm should be able to handle this missing information.\n",
    "    "
   ]
  },
  {
   "cell_type": "raw",
   "metadata": {},
   "source": [
    "Features\n",
    "########\n",
    "id                        *\n",
    "date_time\n",
    "site_name\n",
    "posa_continent\n",
    "user_location_country\n",
    "user_location_region\n",
    "user_location_city\n",
    "orig_destination_distance    M\n",
    "user_id\n",
    "is_mobile\n",
    "is_package\n",
    "channel\n",
    "srch_ci                      M  E\n",
    "srch_co\t                     M  E\n",
    "srch_adults_cnt\n",
    "srch_children_cnt\n",
    "srch_rm_cnt\n",
    "srch_destination_id\n",
    "srch_destination_type_id\n",
    "is_booking                **\n",
    "cnt\n",
    "hotel_continent\n",
    "hotel_country\n",
    "hotel_market\n",
    "hotel_cluster             **\n",
    "\n",
    "\n",
    "* only in test dataset\n",
    "** only in train dataset\n",
    "M missing values\n",
    "E errors in entries"
   ]
  },
  {
   "cell_type": "raw",
   "metadata": {},
   "source": [
    "What do the features mean?\n",
    "##########################\n",
    "id - test dataset key\n",
    "\n",
    "date_time - 'Timestamp' ... of?\n",
    "[check if always preceding srch_ci/srch_co]\n",
    "\n",
    "\n",
    "[look at repeated values - maybe repeated events within one session with the same initial timestamp?]\n",
    "site_name - 'ID of the Expedia point of sale (i.e. Expedia.com, Expedia.co.uk, Expedia.co.jp, ...)'\n",
    "posa_continent - 'ID of continent associated with site_name' (only 5 different continents)\n",
    "[sitename - continent mapping constant?]\n",
    "----> redundancy\n",
    "\n",
    "\n",
    "#### user data\n",
    "user_location_country - 'The ID of the country the customer is located'\n",
    "user_location_region - 'The ID of the region the customer is located'\n",
    "user_location_city - 'The ID of the city the customer is located'\n",
    "[is this information *always* available? Is it always accurate?]\n",
    "user_id\n",
    "[are these constant for a given user id?]\n",
    "----> redundancy\n",
    "\n",
    "\n",
    "orig_destination_distance - 'Physical distance between a hotel and a customer at the time of search. A null means the distance could not be calculated'\n",
    "[Based on their actual current location or where their user profile says they are?]\n",
    "[If not, how come we only *sometimes* have the distance data but *always* have their city/region/country?]\n",
    "[find a user who made several searches in a row, then check out the actual distances/pattern of missing values?]\n",
    "\n",
    "is_mobile - '1 when a user connected from a mobile device, 0 otherwise'\n",
    "is_package - '1 if the click/booking was generated as a part of a package (i.e. combined with a flight), 0 otherwise'\n",
    "channel - 'ID of a marketing channel'\n",
    "[hotel management channels - e.g. ASSD/Amadeus? ]\n",
    "{Basically, it's an info on how a user got to the expedia web page. It can be something like: \"Direct\", \"SEM\" (e.g. via Google paid links), \"Meta channel\" (e.g. via Tripadvisor), etc.}\n",
    "\n",
    "srch_ci - 'Checkin date'               \n",
    "srch_co\t- 'Checkout date'\n",
    "srch_adults_cnt - 'The number of adults specified in the hotel room' (1-14)\n",
    "srch_children_cnt - 'The number of (extra occupancy) children specified in the hotel room' (0-6)\n",
    "srch_rm_cnt - 'The number of hotel rooms specified in the search' (1-?)\n",
    "srch_destination_id - 'ID of the destination where the hotel search was performed'\n",
    "[~58,000 different hotels? \n",
    "srch_destination_type_id - ~9 different types??\n",
    "\n",
    "is_booking - '1 if a booking, 0 if a click'\n",
    "cnt - 'Numer of similar events in the context of the same user session' (101 unique values)\n",
    "[bit vague ... number of preceding search actions?\n",
    "\n",
    "#### hotel features\n",
    "hotel_continent\n",
    "hotel_country\n",
    "hotel_market\n",
    "hotel_cluster - 'ID of a hotel cluster'\n",
    "[is this constant for a given srch_destination_id?]\n",
    "{They are clusters of similar hotels. These clusters are based on hotels popularity, star rating, user review rating, price, distance from city center, amenities, etc. Hotels can belong to different clusters depending on seasonality (e.g. a hotel can be popular and expensive during summer, and cheap and not very popular during winter).}"
   ]
  },
  {
   "cell_type": "raw",
   "metadata": {},
   "source": [
    "Forum Response from Expedia to Questions about Feastures\n",
    "########################################################\n",
    "\n",
    "\n"
   ]
  },
  {
   "cell_type": "raw",
   "metadata": {},
   "source": [
    "Missing Values\n",
    "##############\n",
    "\n",
    "srch_ci, srch_co - handful of values each (0.125%)\n",
    "- [both explicit NA values and garbled format entries]\n",
    "\n",
    "orig_destination_distance (36%)\n",
    "\n",
    "srch_destination_id"
   ]
  },
  {
   "cell_type": "code",
   "execution_count": null,
   "metadata": {
    "collapsed": true
   },
   "outputs": [],
   "source": []
  }
 ],
 "metadata": {
  "kernelspec": {
   "display_name": "Python 3",
   "language": "python",
   "name": "python3"
  },
  "language_info": {
   "codemirror_mode": {
    "name": "ipython",
    "version": 3
   },
   "file_extension": ".py",
   "mimetype": "text/x-python",
   "name": "python",
   "nbconvert_exporter": "python",
   "pygments_lexer": "ipython3",
   "version": "3.5.1"
  }
 },
 "nbformat": 4,
 "nbformat_minor": 0
}
