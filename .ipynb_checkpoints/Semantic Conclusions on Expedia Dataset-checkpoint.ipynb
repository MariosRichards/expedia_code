{
 "cells": [
  {
   "cell_type": "raw",
   "metadata": {},
   "source": [
    "Features\n",
    "########\n",
    "id                        *\n",
    "date_time\n",
    "site_name\n",
    "posa_continent\n",
    "user_location_country\n",
    "user_location_region\n",
    "user_location_city\n",
    "orig_destination_distance    M\n",
    "user_id\n",
    "is_mobile\n",
    "is_package\n",
    "channel\n",
    "srch_ci                      M  E\n",
    "srch_co\t                     M  E\n",
    "srch_adults_cnt\n",
    "srch_children_cnt\n",
    "srch_rm_cnt\n",
    "srch_destination_id\n",
    "srch_destination_type_id\n",
    "is_booking                **\n",
    "cnt\n",
    "hotel_continent\n",
    "hotel_country\n",
    "hotel_market\n",
    "hotel_cluster             **\n",
    "\n",
    "\n",
    "* only in test dataset\n",
    "** only in train dataset\n",
    "M missing values\n",
    "E errors in entries"
   ]
  },
  {
   "cell_type": "raw",
   "metadata": {},
   "source": [
    "What do the features mean?\n",
    "##########################\n",
    "id - test dataset kaggle UID\n",
    "\n",
    "date_time\n",
    "site_name\n",
    "posa_continent\n",
    "\n",
    "user_location_country\n",
    "user_location_region\n",
    "user_location_city\n",
    "user_id\n",
    "\n",
    "orig_destination_distance    \n",
    "\n",
    "is_mobile\n",
    "is_package\n",
    "channel\n",
    "\n",
    "srch_ci                      \n",
    "srch_co\t                     \n",
    "srch_adults_cnt\n",
    "srch_children_cnt\n",
    "srch_rm_cnt\n",
    "srch_destination_id\n",
    "srch_destination_type_id\n",
    "\n",
    "is_booking                \n",
    "cnt\n",
    "\n",
    "hotel_continent\n",
    "hotel_country\n",
    "hotel_market\n",
    "hotel_cluster             "
   ]
  },
  {
   "cell_type": "raw",
   "metadata": {},
   "source": [
    "Missing Values\n",
    "##############\n",
    "\n",
    "srch_ci, srch_co - handful of values each (0.125%)\n",
    "- [both explicit NA values and garbled format entries]\n",
    "orig_destination_distance (36%)\n"
   ]
  },
  {
   "cell_type": "code",
   "execution_count": null,
   "metadata": {
    "collapsed": true
   },
   "outputs": [],
   "source": []
  }
 ],
 "metadata": {
  "kernelspec": {
   "display_name": "Python 3",
   "language": "python",
   "name": "python3"
  },
  "language_info": {
   "codemirror_mode": {
    "name": "ipython",
    "version": 3
   },
   "file_extension": ".py",
   "mimetype": "text/x-python",
   "name": "python",
   "nbconvert_exporter": "python",
   "pygments_lexer": "ipython3",
   "version": "3.5.1"
  }
 },
 "nbformat": 4,
 "nbformat_minor": 0
}
