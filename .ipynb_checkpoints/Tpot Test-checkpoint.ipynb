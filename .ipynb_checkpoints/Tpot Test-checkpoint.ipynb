{
 "cells": [
  {
   "cell_type": "code",
   "execution_count": 1,
   "metadata": {
    "collapsed": true
   },
   "outputs": [],
   "source": [
    "import os\n",
    "mingw_path = 'C:\\\\Program Files\\\\mingw-w64\\\\x86_6~4-5.3.0-posix-seh-rt_v4-rev0\\\\mingw64\\\\bin'\n",
    "os.environ['PATH'] = mingw_path + ';' + os.environ['PATH']"
   ]
  },
  {
   "cell_type": "code",
   "execution_count": 2,
   "metadata": {
    "collapsed": false
   },
   "outputs": [],
   "source": [
    "# basic set of imports\n",
    "import re, operator\n",
    "import pandas as pd\n",
    "import numpy as np\n",
    "import matplotlib.pyplot as plt\n",
    "\n",
    "from sklearn import cross_validation\n",
    "from sklearn.cross_validation import KFold\n",
    "from sklearn.cross_validation import StratifiedKFold\n",
    "from sklearn.cross_validation import train_test_split\n",
    "from sklearn.linear_model import LinearRegression\n",
    "from sklearn.linear_model import LogisticRegression\n",
    "from sklearn.ensemble import RandomForestClassifier\n",
    "from sklearn.ensemble import GradientBoostingClassifier\n",
    "from sklearn.feature_selection import SelectKBest, f_classif\n",
    "from sklearn.preprocessing import StandardScaler\n",
    "\n",
    "from collections import defaultdict\n",
    "from IPython.display import display, HTML\n",
    "import datetime, pickle\n",
    "import time\n",
    "import tables\n",
    "import csv\n",
    "\n",
    "from tpot import TPOT\n",
    "%matplotlib inline"
   ]
  },
  {
   "cell_type": "code",
   "execution_count": 51,
   "metadata": {
    "collapsed": false
   },
   "outputs": [],
   "source": [
    "# filename = 'train_as_hdf'\n",
    "# train = pd.read_hdf(r\"..\\expedia_data\\{0}.h5\".format(filename))\n",
    "# train.info(memory_usage='deep')"
   ]
  },
  {
   "cell_type": "code",
   "execution_count": 115,
   "metadata": {
    "collapsed": false
   },
   "outputs": [
    {
     "name": "stdout",
     "output_type": "stream",
     "text": [
      "<class 'pandas.core.frame.DataFrame'>\n",
      "Int64Index: 3000693 entries, 1 to 37670292\n",
      "Data columns (total 32 columns):\n",
      "site_name                    uint8\n",
      "posa_continent               uint8\n",
      "user_location_country        uint8\n",
      "user_location_region         uint16\n",
      "user_location_city           uint16\n",
      "orig_destination_distance    float64\n",
      "user_id                      uint32\n",
      "is_mobile                    uint8\n",
      "is_package                   uint8\n",
      "channel                      uint8\n",
      "srch_adults_cnt              uint8\n",
      "srch_children_cnt            uint8\n",
      "srch_rm_cnt                  uint8\n",
      "srch_destination_id          uint32\n",
      "srch_destination_type_id     uint8\n",
      "is_booking                   uint8\n",
      "cnt                          uint16\n",
      "hotel_continent              uint8\n",
      "hotel_country                uint8\n",
      "hotel_market                 uint16\n",
      "hotel_cluster                uint8\n",
      "year                         float16\n",
      "month                        float16\n",
      "day                          float16\n",
      "ci_year                      float16\n",
      "co_year                      float16\n",
      "ci_month                     float16\n",
      "co_month                     float16\n",
      "ci_day                       float16\n",
      "co_day                       float16\n",
      "stay_span                    float16\n",
      "booking_span                 float16\n",
      "dtypes: float16(11), float64(1), uint16(4), uint32(2), uint8(14)\n",
      "memory usage: 194.6 MB\n"
     ]
    }
   ],
   "source": [
    "filename = 'train_bookings_only'\n",
    "train = pd.read_hdf(r\"..\\expedia_data\\{0}.h5\".format(filename))\n",
    "train.info(memory_usage='deep')"
   ]
  },
  {
   "cell_type": "code",
   "execution_count": 53,
   "metadata": {
    "collapsed": false
   },
   "outputs": [],
   "source": [
    "# train = train[0:10000]"
   ]
  },
  {
   "cell_type": "code",
   "execution_count": 118,
   "metadata": {
    "collapsed": true
   },
   "outputs": [],
   "source": [
    "drop_list = [ \"hotel_cluster\" , \"ci_year\", \"co_year\", \"ci_month\", \"co_month\", \"ci_day\", \"co_day\", \"stay_span\", \"booking_span\" ]"
   ]
  },
  {
   "cell_type": "code",
   "execution_count": 119,
   "metadata": {
    "collapsed": false
   },
   "outputs": [],
   "source": [
    "X = train.drop(drop_list,axis=1).values"
   ]
  },
  {
   "cell_type": "code",
   "execution_count": 127,
   "metadata": {
    "collapsed": false
   },
   "outputs": [
    {
     "data": {
      "text/plain": [
       "(3000693, 23)"
      ]
     },
     "execution_count": 127,
     "metadata": {},
     "output_type": "execute_result"
    }
   ],
   "source": [
    "X.shape"
   ]
  },
  {
   "cell_type": "code",
   "execution_count": 120,
   "metadata": {
    "collapsed": true
   },
   "outputs": [],
   "source": [
    "y = train.loc[: , \"hotel_cluster\"].values"
   ]
  },
  {
   "cell_type": "code",
   "execution_count": 121,
   "metadata": {
    "collapsed": false
   },
   "outputs": [],
   "source": [
    "del train\n"
   ]
  },
  {
   "cell_type": "code",
   "execution_count": 128,
   "metadata": {
    "collapsed": false
   },
   "outputs": [
    {
     "data": {
      "text/plain": [
       "275"
      ]
     },
     "execution_count": 128,
     "metadata": {},
     "output_type": "execute_result"
    }
   ],
   "source": [
    "import gc\n",
    "gc.collect()"
   ]
  },
  {
   "cell_type": "code",
   "execution_count": 130,
   "metadata": {
    "collapsed": false
   },
   "outputs": [
    {
     "data": {
      "text/plain": [
       "26.81564245810056"
      ]
     },
     "execution_count": 130,
     "metadata": {},
     "output_type": "execute_result"
    }
   ],
   "source": [
    "14400/537\n"
   ]
  },
  {
   "cell_type": "code",
   "execution_count": 123,
   "metadata": {
    "collapsed": false
   },
   "outputs": [],
   "source": [
    "X_train, X_test, y_train, y_test = train_test_split(X, y,  \n",
    "                                                    train_size=0.75,  \n",
    "                                                    test_size=0.25) "
   ]
  },
  {
   "cell_type": "code",
   "execution_count": 124,
   "metadata": {
    "collapsed": true
   },
   "outputs": [],
   "source": [
    "cup_times = []\n",
    "cup_score = []"
   ]
  },
  {
   "cell_type": "code",
   "execution_count": 125,
   "metadata": {
    "collapsed": false
   },
   "outputs": [
    {
     "name": "stdout",
     "output_type": "stream",
     "text": [
      "gen\tnevals\tMinimum score\tAverage score\tMaximum score\n",
      "0  \t5     \t0            \t0.2          \t0.5          \n",
      "1  \t5     \t0.5          \t0.5          \t0.5          \n",
      "2  \t4     \t0            \t0.4          \t0.5          \n",
      "3  \t5     \t0            \t0.3          \t0.5          \n",
      "4  \t5     \t0.5          \t0.5          \t0.5          \n",
      "5  \t5     \t0.5          \t0.5          \t0.5          \n",
      "6  \t5     \t0            \t0.3          \t0.5          \n",
      "7  \t5     \t0            \t0.4          \t0.5          \n",
      "8  \t4     \t0.5          \t0.5          \t0.5          \n",
      "9  \t5     \t0            \t0.3          \t0.5          \n",
      "10 \t5     \t0.5          \t0.5          \t0.5          \n",
      "\n",
      "Best pipeline: _variance_threshold(ARG0, 0.01)\n",
      "537.4781647409609 0.5\n"
     ]
    }
   ],
   "source": [
    "my_tpot = TPOT(generations=20,verbosity=2,population_size=20) # seems to have a problem with pop <5\n",
    "# gen 1-> really means two generations!\n",
    "\n",
    "start = time.clock()\n",
    "my_tpot.fit(X_train, y_train)\n",
    "end = time.clock()\n",
    "duration = end - start\n",
    "score = my_tpot.score(X_test, y_test)\n",
    "print(duration,score)\n",
    "# cup_times.append(duration)\n",
    "# cup_score.append(score)\n",
    "\n"
   ]
  },
  {
   "cell_type": "code",
   "execution_count": null,
   "metadata": {
    "collapsed": true
   },
   "outputs": [],
   "source": [
    "# pop 10, gen1\n",
    "# max 338s\n"
   ]
  },
  {
   "cell_type": "code",
   "execution_count": 94,
   "metadata": {
    "collapsed": false
   },
   "outputs": [
    {
     "data": {
      "text/plain": [
       "[2.2900412675085136,\n",
       " 26.443877800592873,\n",
       " 2.2757202080720162,\n",
       " 1.6559374294743066,\n",
       " 145.02439724646092]"
      ]
     },
     "execution_count": 94,
     "metadata": {},
     "output_type": "execute_result"
    }
   ],
   "source": [
    "cup_times"
   ]
  },
  {
   "cell_type": "code",
   "execution_count": 95,
   "metadata": {
    "collapsed": false
   },
   "outputs": [
    {
     "data": {
      "text/plain": [
       "[0.5, 0.5, 0.5, 0.5, 0.55132815721437423]"
      ]
     },
     "execution_count": 95,
     "metadata": {},
     "output_type": "execute_result"
    }
   ],
   "source": [
    "cup_score"
   ]
  },
  {
   "cell_type": "code",
   "execution_count": 102,
   "metadata": {
    "collapsed": false
   },
   "outputs": [
    {
     "ename": "ValueError",
     "evalue": "A pipeline has not yet been optimized. Please call fit() first.",
     "output_type": "error",
     "traceback": [
      "\u001b[1;31m---------------------------------------------------------------------------\u001b[0m",
      "\u001b[1;31mValueError\u001b[0m                                Traceback (most recent call last)",
      "\u001b[1;32m<ipython-input-102-941166cd3844>\u001b[0m in \u001b[0;36m<module>\u001b[1;34m()\u001b[0m\n\u001b[1;32m----> 1\u001b[1;33m \u001b[0mmy_tpot\u001b[0m\u001b[1;33m.\u001b[0m\u001b[0mscore\u001b[0m\u001b[1;33m(\u001b[0m\u001b[0mX_test\u001b[0m\u001b[1;33m,\u001b[0m \u001b[0my_test\u001b[0m\u001b[1;33m)\u001b[0m\u001b[1;33m\u001b[0m\u001b[0m\n\u001b[0m",
      "\u001b[1;32mC:\\ANACON~1\\envs\\expedia_kaggle\\lib\\site-packages\\tpot\\tpot.py\u001b[0m in \u001b[0;36mscore\u001b[1;34m(self, testing_features, testing_classes)\u001b[0m\n\u001b[0;32m    352\u001b[0m         \"\"\"\n\u001b[0;32m    353\u001b[0m         \u001b[1;32mif\u001b[0m \u001b[0mself\u001b[0m\u001b[1;33m.\u001b[0m\u001b[0m_optimized_pipeline\u001b[0m \u001b[1;32mis\u001b[0m \u001b[1;32mNone\u001b[0m\u001b[1;33m:\u001b[0m\u001b[1;33m\u001b[0m\u001b[0m\n\u001b[1;32m--> 354\u001b[1;33m             \u001b[1;32mraise\u001b[0m \u001b[0mValueError\u001b[0m\u001b[1;33m(\u001b[0m\u001b[1;34m'A pipeline has not yet been optimized. Please call fit() first.'\u001b[0m\u001b[1;33m)\u001b[0m\u001b[1;33m\u001b[0m\u001b[0m\n\u001b[0m\u001b[0;32m    355\u001b[0m \u001b[1;33m\u001b[0m\u001b[0m\n\u001b[0;32m    356\u001b[0m         \u001b[0mtraining_data\u001b[0m \u001b[1;33m=\u001b[0m \u001b[0mpd\u001b[0m\u001b[1;33m.\u001b[0m\u001b[0mDataFrame\u001b[0m\u001b[1;33m(\u001b[0m\u001b[0mself\u001b[0m\u001b[1;33m.\u001b[0m\u001b[0m_training_features\u001b[0m\u001b[1;33m)\u001b[0m\u001b[1;33m\u001b[0m\u001b[0m\n",
      "\u001b[1;31mValueError\u001b[0m: A pipeline has not yet been optimized. Please call fit() first."
     ]
    }
   ],
   "source": [
    "my_tpot.score(X_test, y_test)"
   ]
  },
  {
   "cell_type": "code",
   "execution_count": 126,
   "metadata": {
    "collapsed": true
   },
   "outputs": [],
   "source": [
    "my_tpot.export('tpot_expedia_pipeline_first.py')"
   ]
  },
  {
   "cell_type": "code",
   "execution_count": null,
   "metadata": {
    "collapsed": true
   },
   "outputs": [],
   "source": [
    "import datetime\n",
    "datetime.datetime.now()"
   ]
  },
  {
   "cell_type": "code",
   "execution_count": null,
   "metadata": {
    "collapsed": true
   },
   "outputs": [],
   "source": [
    "#pop, time, score\n",
    "#5,  0.8\n",
    "#10, 9.4\n",
    "#15, 6.1\n",
    "#20, "
   ]
  },
  {
   "cell_type": "code",
   "execution_count": null,
   "metadata": {
    "collapsed": true
   },
   "outputs": [],
   "source": [
    "# geneneration 1, pop 5\n",
    "# time, score\n",
    "# 10, .5\n",
    "# 1.6, .5\n",
    "# 2, .5"
   ]
  },
  {
   "cell_type": "code",
   "execution_count": null,
   "metadata": {
    "collapsed": true
   },
   "outputs": [],
   "source": []
  },
  {
   "cell_type": "code",
   "execution_count": null,
   "metadata": {
    "collapsed": true
   },
   "outputs": [],
   "source": []
  },
  {
   "cell_type": "code",
   "execution_count": null,
   "metadata": {
    "collapsed": true
   },
   "outputs": [],
   "source": [
    "## NOW TRYING ONE OF THEIR EXAMPLES!"
   ]
  },
  {
   "cell_type": "code",
   "execution_count": 3,
   "metadata": {
    "collapsed": false
   },
   "outputs": [
    {
     "name": "stdout",
     "output_type": "stream",
     "text": [
      "0.988611513441\n"
     ]
    }
   ],
   "source": [
    "from tpot import TPOT\n",
    "from sklearn.datasets import load_digits\n",
    "from sklearn.cross_validation import train_test_split\n",
    "\n",
    "digits = load_digits()\n",
    "X_train, X_test, y_train, y_test = train_test_split(digits.data, digits.target,\n",
    "                                                    train_size=0.75, test_size=0.25)\n",
    "\n",
    "tpot = TPOT(generations=5)\n",
    "tpot.fit(X_train, y_train)\n",
    "print(tpot.score(X_test, y_test))\n",
    "tpot.export('tpot_mnist_pipeline.py')"
   ]
  },
  {
   "cell_type": "code",
   "execution_count": 4,
   "metadata": {
    "collapsed": false
   },
   "outputs": [
    {
     "data": {
      "text/plain": [
       "datetime.datetime(2016, 6, 8, 22, 18, 13, 682691)"
      ]
     },
     "execution_count": 4,
     "metadata": {},
     "output_type": "execute_result"
    }
   ],
   "source": [
    "import datetime\n",
    "datetime.datetime.now()"
   ]
  },
  {
   "cell_type": "code",
   "execution_count": 6,
   "metadata": {
    "collapsed": true
   },
   "outputs": [],
   "source": [
    "del digits"
   ]
  },
  {
   "cell_type": "code",
   "execution_count": 7,
   "metadata": {
    "collapsed": true
   },
   "outputs": [],
   "source": [
    "del X_train, X_test, y_train, y_test"
   ]
  },
  {
   "cell_type": "code",
   "execution_count": null,
   "metadata": {
    "collapsed": true
   },
   "outputs": [],
   "source": []
  },
  {
   "cell_type": "code",
   "execution_count": null,
   "metadata": {
    "collapsed": true
   },
   "outputs": [],
   "source": [
    "## NOW TRYING ONE OF THEIR SOLUTION FILES!"
   ]
  },
  {
   "cell_type": "code",
   "execution_count": 14,
   "metadata": {
    "collapsed": true
   },
   "outputs": [],
   "source": [
    "import numpy as np\n",
    "import pandas as pd\n",
    "\n",
    "import time\n",
    "\n",
    "from sklearn.cross_validation import train_test_split\n",
    "from sklearn.feature_selection import VarianceThreshold\n",
    "from sklearn.cross_validation import train_test_split\n",
    "from sklearn.feature_selection import RFE\n",
    "from sklearn.svm import SVC\n",
    "from sklearn.cross_validation import train_test_split\n",
    "from sklearn.ensemble import RandomForestClassifier"
   ]
  },
  {
   "cell_type": "code",
   "execution_count": 21,
   "metadata": {
    "collapsed": false
   },
   "outputs": [
    {
     "name": "stdout",
     "output_type": "stream",
     "text": [
      "<class 'pandas.core.frame.DataFrame'>\n",
      "Int64Index: 3000693 entries, 1 to 37670292\n",
      "Data columns (total 20 columns):\n",
      "site_name                   uint8\n",
      "posa_continent              uint8\n",
      "user_location_country       uint8\n",
      "user_location_region        uint16\n",
      "user_location_city          uint16\n",
      "is_mobile                   uint8\n",
      "is_package                  uint8\n",
      "channel                     uint8\n",
      "srch_adults_cnt             uint8\n",
      "srch_children_cnt           uint8\n",
      "srch_rm_cnt                 uint8\n",
      "srch_destination_type_id    uint8\n",
      "cnt                         uint16\n",
      "hotel_continent             uint8\n",
      "hotel_country               uint8\n",
      "hotel_market                uint16\n",
      "class                       uint8\n",
      "year                        float16\n",
      "month                       float16\n",
      "day                         float16\n",
      "dtypes: float16(3), uint16(4), uint8(13)\n",
      "memory usage: 100.2 MB\n"
     ]
    }
   ],
   "source": [
    "# NOTE: Make sure that the class is labeled 'class' in the data file\n",
    "\n",
    "filename = 'train_bookings_only'\n",
    "train = pd.read_hdf(r\"..\\expedia_data\\{0}.h5\".format(filename))\n",
    "\n",
    "drop_list = [ \"ci_year\", \"co_year\", \"ci_month\", \"co_month\", \"ci_day\", \"co_day\", \"stay_span\", \"booking_span\" ,\"orig_destination_distance\", \"user_id\", \"srch_destination_id\", \"is_booking\"]\n",
    "#df=df.rename(columns = {'two':'new_name'})\n",
    "train = train.rename(columns = {'hotel_cluster':'class'}).drop(drop_list,axis=1)\n",
    "train.columns\n",
    "train.info(memory_usage='deep')\n",
    "\n",
    "# some issues with things that don't convert to float16!\n",
    "train=train[0:3000000:5]"
   ]
  },
  {
   "cell_type": "code",
   "execution_count": null,
   "metadata": {
    "collapsed": false
   },
   "outputs": [],
   "source": []
  },
  {
   "cell_type": "code",
   "execution_count": 22,
   "metadata": {
    "collapsed": false
   },
   "outputs": [
    {
     "data": {
      "text/plain": [
       "Index(['site_name', 'posa_continent', 'user_location_country',\n",
       "       'user_location_region', 'user_location_city', 'is_mobile', 'is_package',\n",
       "       'channel', 'srch_adults_cnt', 'srch_children_cnt', 'srch_rm_cnt',\n",
       "       'srch_destination_type_id', 'cnt', 'hotel_continent', 'hotel_country',\n",
       "       'hotel_market', 'class', 'year', 'month', 'day'],\n",
       "      dtype='object')"
      ]
     },
     "execution_count": 22,
     "metadata": {},
     "output_type": "execute_result"
    }
   ],
   "source": [
    "tpot_data = train\n",
    "tpot_data.columns\n",
    "#pd.read_csv('PATH/TO/DATA/FILE', sep='COLUMN_SEPARATOR')"
   ]
  },
  {
   "cell_type": "code",
   "execution_count": 23,
   "metadata": {
    "collapsed": false
   },
   "outputs": [
    {
     "data": {
      "text/plain": [
       "0"
      ]
     },
     "execution_count": 23,
     "metadata": {},
     "output_type": "execute_result"
    }
   ],
   "source": [
    "# tpot_data.info(memory_usage='deep')\n",
    "import gc\n",
    "gc.collect()"
   ]
  },
  {
   "cell_type": "code",
   "execution_count": 24,
   "metadata": {
    "collapsed": false
   },
   "outputs": [],
   "source": [
    "training_indices, testing_indices = train_test_split(tpot_data.index,\n",
    "                                                     stratify = tpot_data['class'].values,\n",
    "                                                     train_size=0.75,\n",
    "                                                     test_size=0.25)"
   ]
  },
  {
   "cell_type": "code",
   "execution_count": 25,
   "metadata": {
    "collapsed": true
   },
   "outputs": [],
   "source": [
    "result1 = tpot_data.copy()"
   ]
  },
  {
   "cell_type": "code",
   "execution_count": 26,
   "metadata": {
    "collapsed": false
   },
   "outputs": [
    {
     "name": "stdout",
     "output_type": "stream",
     "text": [
      "600000 0.0297916666667 162.89827397070673\n"
     ]
    }
   ],
   "source": [
    "start = time.clock()\n",
    "rfc1 = RandomForestClassifier(n_estimators=17, max_features=min(62, len(result1.columns) - 1))\n",
    "rfc1.fit(result1.loc[training_indices].drop('class', axis=1).values, result1.loc[training_indices, 'class'].values)\n",
    "result1['rfc1-classification'] = rfc1.predict(result1.drop('class', axis=1).values)\n",
    "sum(result1['rfc1-classification']==result1['class'])/result1.shape[0]\n",
    "end = time.clock()\n",
    "duration = end - start\n",
    "print(train.shape[0],sum(result1['rfc1-classification'][testing_indices]==result1['class'][testing_indices])/result1.shape[0], duration)"
   ]
  },
  {
   "cell_type": "code",
   "execution_count": 13,
   "metadata": {
    "collapsed": false
   },
   "outputs": [
    {
     "name": "stdout",
     "output_type": "stream",
     "text": [
      "10000 0.0416 1.8229162816176754\n"
     ]
    }
   ],
   "source": [
    "\n",
    "\n"
   ]
  },
  {
   "cell_type": "code",
   "execution_count": null,
   "metadata": {
    "collapsed": false
   },
   "outputs": [],
   "source": [
    "# 1,000,000 -> 220 seconds?\n",
    "# 3,000,000 -> 660 seconds ~ 11 minutes"
   ]
  },
  {
   "cell_type": "code",
   "execution_count": null,
   "metadata": {
    "collapsed": false
   },
   "outputs": [],
   "source": [
    "\n",
    "\n",
    "# 100000 0.78486 21.246024557347596\n",
    "# 100000 0.78591, 22\n",
    "# 100000 0.78629 21.01713161129703\n",
    "\n",
    "# 50000 0.78362 10.174600968808704\n",
    "# 50000 0.78412 10.389497355078106\n",
    "# 50000 0.78456 10.202938721693727\n",
    "\n",
    "# 10000 0.7794   1.9262640330380236\n",
    "# 10000 0.7804   1.8369047814260284\n",
    "# 10000 0.7836   1.8295210124881578"
   ]
  },
  {
   "cell_type": "code",
   "execution_count": null,
   "metadata": {
    "collapsed": false
   },
   "outputs": [],
   "source": []
  },
  {
   "cell_type": "code",
   "execution_count": null,
   "metadata": {
    "collapsed": false
   },
   "outputs": [],
   "source": [
    "# Use Scikit-learn's Recursive Feature Elimination (RFE) for feature selection\n",
    "training_features = result1.loc[training_indices].drop('class', axis=1)\n",
    "training_class_vals = result1.loc[training_indices, 'class'].values\n",
    "\n",
    "if len(training_features.columns.values) == 0:\n",
    "    result1 = result1.copy()\n",
    "else:\n",
    "    selector = RFE(SVC(kernel='linear'), n_features_to_select=min(77, len(training_features.columns)), step=0.99)\n",
    "    selector.fit(training_features.values, training_class_vals)\n",
    "    mask = selector.get_support(True)\n",
    "    mask_cols = list(training_features.iloc[:, mask].columns) + ['class']\n",
    "    result1 = result1[mask_cols]"
   ]
  },
  {
   "cell_type": "code",
   "execution_count": null,
   "metadata": {
    "collapsed": true
   },
   "outputs": [],
   "source": [
    "result1"
   ]
  },
  {
   "cell_type": "code",
   "execution_count": null,
   "metadata": {
    "collapsed": true
   },
   "outputs": [],
   "source": []
  },
  {
   "cell_type": "code",
   "execution_count": null,
   "metadata": {
    "collapsed": true
   },
   "outputs": [],
   "source": []
  },
  {
   "cell_type": "code",
   "execution_count": 9,
   "metadata": {
    "collapsed": true
   },
   "outputs": [],
   "source": [
    "# Use Scikit-learn's VarianceThreshold for feature selection\n",
    "training_features = result1.loc[training_indices].drop('class', axis=1)"
   ]
  },
  {
   "cell_type": "code",
   "execution_count": 10,
   "metadata": {
    "collapsed": true
   },
   "outputs": [],
   "source": [
    "selector = VarianceThreshold(threshold=0.01)"
   ]
  },
  {
   "cell_type": "code",
   "execution_count": 11,
   "metadata": {
    "collapsed": true
   },
   "outputs": [],
   "source": [
    "try:\n",
    "    selector.fit(training_features.values)\n",
    "    mask = selector.get_support(True)\n",
    "    mask_cols = list(training_features.iloc[:, mask].columns) + ['class']\n",
    "    result1 = result1[mask_cols]\n",
    "except ValueError:\n",
    "    # None of the features meet the variance threshold\n",
    "    result1 = result1[['class']]"
   ]
  },
  {
   "cell_type": "code",
   "execution_count": 12,
   "metadata": {
    "collapsed": false
   },
   "outputs": [
    {
     "data": {
      "text/html": [
       "<div>\n",
       "<table border=\"1\" class=\"dataframe\">\n",
       "  <thead>\n",
       "    <tr style=\"text-align: right;\">\n",
       "      <th></th>\n",
       "      <th>class</th>\n",
       "    </tr>\n",
       "  </thead>\n",
       "  <tbody>\n",
       "    <tr>\n",
       "      <th>1</th>\n",
       "      <td>1</td>\n",
       "    </tr>\n",
       "    <tr>\n",
       "      <th>20</th>\n",
       "      <td>2</td>\n",
       "    </tr>\n",
       "    <tr>\n",
       "      <th>27</th>\n",
       "      <td>58</td>\n",
       "    </tr>\n",
       "    <tr>\n",
       "      <th>72</th>\n",
       "      <td>36</td>\n",
       "    </tr>\n",
       "    <tr>\n",
       "      <th>79</th>\n",
       "      <td>95</td>\n",
       "    </tr>\n",
       "    <tr>\n",
       "      <th>81</th>\n",
       "      <td>95</td>\n",
       "    </tr>\n",
       "    <tr>\n",
       "      <th>83</th>\n",
       "      <td>95</td>\n",
       "    </tr>\n",
       "    <tr>\n",
       "      <th>128</th>\n",
       "      <td>38</td>\n",
       "    </tr>\n",
       "    <tr>\n",
       "      <th>133</th>\n",
       "      <td>81</td>\n",
       "    </tr>\n",
       "    <tr>\n",
       "      <th>137</th>\n",
       "      <td>43</td>\n",
       "    </tr>\n",
       "    <tr>\n",
       "      <th>158</th>\n",
       "      <td>25</td>\n",
       "    </tr>\n",
       "    <tr>\n",
       "      <th>268</th>\n",
       "      <td>10</td>\n",
       "    </tr>\n",
       "    <tr>\n",
       "      <th>276</th>\n",
       "      <td>99</td>\n",
       "    </tr>\n",
       "    <tr>\n",
       "      <th>306</th>\n",
       "      <td>78</td>\n",
       "    </tr>\n",
       "    <tr>\n",
       "      <th>331</th>\n",
       "      <td>8</td>\n",
       "    </tr>\n",
       "    <tr>\n",
       "      <th>351</th>\n",
       "      <td>15</td>\n",
       "    </tr>\n",
       "    <tr>\n",
       "      <th>352</th>\n",
       "      <td>15</td>\n",
       "    </tr>\n",
       "    <tr>\n",
       "      <th>372</th>\n",
       "      <td>91</td>\n",
       "    </tr>\n",
       "    <tr>\n",
       "      <th>401</th>\n",
       "      <td>54</td>\n",
       "    </tr>\n",
       "    <tr>\n",
       "      <th>408</th>\n",
       "      <td>42</td>\n",
       "    </tr>\n",
       "    <tr>\n",
       "      <th>410</th>\n",
       "      <td>42</td>\n",
       "    </tr>\n",
       "    <tr>\n",
       "      <th>412</th>\n",
       "      <td>32</td>\n",
       "    </tr>\n",
       "    <tr>\n",
       "      <th>414</th>\n",
       "      <td>7</td>\n",
       "    </tr>\n",
       "    <tr>\n",
       "      <th>418</th>\n",
       "      <td>83</td>\n",
       "    </tr>\n",
       "    <tr>\n",
       "      <th>425</th>\n",
       "      <td>18</td>\n",
       "    </tr>\n",
       "    <tr>\n",
       "      <th>599</th>\n",
       "      <td>18</td>\n",
       "    </tr>\n",
       "    <tr>\n",
       "      <th>601</th>\n",
       "      <td>18</td>\n",
       "    </tr>\n",
       "    <tr>\n",
       "      <th>604</th>\n",
       "      <td>95</td>\n",
       "    </tr>\n",
       "    <tr>\n",
       "      <th>606</th>\n",
       "      <td>95</td>\n",
       "    </tr>\n",
       "    <tr>\n",
       "      <th>746</th>\n",
       "      <td>12</td>\n",
       "    </tr>\n",
       "    <tr>\n",
       "      <th>...</th>\n",
       "      <td>...</td>\n",
       "    </tr>\n",
       "    <tr>\n",
       "      <th>37669913</th>\n",
       "      <td>7</td>\n",
       "    </tr>\n",
       "    <tr>\n",
       "      <th>37669918</th>\n",
       "      <td>58</td>\n",
       "    </tr>\n",
       "    <tr>\n",
       "      <th>37669934</th>\n",
       "      <td>73</td>\n",
       "    </tr>\n",
       "    <tr>\n",
       "      <th>37669936</th>\n",
       "      <td>73</td>\n",
       "    </tr>\n",
       "    <tr>\n",
       "      <th>37669946</th>\n",
       "      <td>39</td>\n",
       "    </tr>\n",
       "    <tr>\n",
       "      <th>37669948</th>\n",
       "      <td>47</td>\n",
       "    </tr>\n",
       "    <tr>\n",
       "      <th>37669962</th>\n",
       "      <td>4</td>\n",
       "    </tr>\n",
       "    <tr>\n",
       "      <th>37669968</th>\n",
       "      <td>88</td>\n",
       "    </tr>\n",
       "    <tr>\n",
       "      <th>37669975</th>\n",
       "      <td>19</td>\n",
       "    </tr>\n",
       "    <tr>\n",
       "      <th>37670005</th>\n",
       "      <td>64</td>\n",
       "    </tr>\n",
       "    <tr>\n",
       "      <th>37670009</th>\n",
       "      <td>41</td>\n",
       "    </tr>\n",
       "    <tr>\n",
       "      <th>37670011</th>\n",
       "      <td>91</td>\n",
       "    </tr>\n",
       "    <tr>\n",
       "      <th>37670027</th>\n",
       "      <td>81</td>\n",
       "    </tr>\n",
       "    <tr>\n",
       "      <th>37670037</th>\n",
       "      <td>63</td>\n",
       "    </tr>\n",
       "    <tr>\n",
       "      <th>37670046</th>\n",
       "      <td>68</td>\n",
       "    </tr>\n",
       "    <tr>\n",
       "      <th>37670070</th>\n",
       "      <td>98</td>\n",
       "    </tr>\n",
       "    <tr>\n",
       "      <th>37670118</th>\n",
       "      <td>76</td>\n",
       "    </tr>\n",
       "    <tr>\n",
       "      <th>37670120</th>\n",
       "      <td>13</td>\n",
       "    </tr>\n",
       "    <tr>\n",
       "      <th>37670177</th>\n",
       "      <td>90</td>\n",
       "    </tr>\n",
       "    <tr>\n",
       "      <th>37670206</th>\n",
       "      <td>89</td>\n",
       "    </tr>\n",
       "    <tr>\n",
       "      <th>37670212</th>\n",
       "      <td>50</td>\n",
       "    </tr>\n",
       "    <tr>\n",
       "      <th>37670216</th>\n",
       "      <td>50</td>\n",
       "    </tr>\n",
       "    <tr>\n",
       "      <th>37670218</th>\n",
       "      <td>48</td>\n",
       "    </tr>\n",
       "    <tr>\n",
       "      <th>37670236</th>\n",
       "      <td>49</td>\n",
       "    </tr>\n",
       "    <tr>\n",
       "      <th>37670266</th>\n",
       "      <td>91</td>\n",
       "    </tr>\n",
       "    <tr>\n",
       "      <th>37670275</th>\n",
       "      <td>7</td>\n",
       "    </tr>\n",
       "    <tr>\n",
       "      <th>37670277</th>\n",
       "      <td>42</td>\n",
       "    </tr>\n",
       "    <tr>\n",
       "      <th>37670281</th>\n",
       "      <td>68</td>\n",
       "    </tr>\n",
       "    <tr>\n",
       "      <th>37670285</th>\n",
       "      <td>77</td>\n",
       "    </tr>\n",
       "    <tr>\n",
       "      <th>37670292</th>\n",
       "      <td>42</td>\n",
       "    </tr>\n",
       "  </tbody>\n",
       "</table>\n",
       "<p>3000693 rows × 1 columns</p>\n",
       "</div>"
      ],
      "text/plain": [
       "          class\n",
       "1             1\n",
       "20            2\n",
       "27           58\n",
       "72           36\n",
       "79           95\n",
       "81           95\n",
       "83           95\n",
       "128          38\n",
       "133          81\n",
       "137          43\n",
       "158          25\n",
       "268          10\n",
       "276          99\n",
       "306          78\n",
       "331           8\n",
       "351          15\n",
       "352          15\n",
       "372          91\n",
       "401          54\n",
       "408          42\n",
       "410          42\n",
       "412          32\n",
       "414           7\n",
       "418          83\n",
       "425          18\n",
       "599          18\n",
       "601          18\n",
       "604          95\n",
       "606          95\n",
       "746          12\n",
       "...         ...\n",
       "37669913      7\n",
       "37669918     58\n",
       "37669934     73\n",
       "37669936     73\n",
       "37669946     39\n",
       "37669948     47\n",
       "37669962      4\n",
       "37669968     88\n",
       "37669975     19\n",
       "37670005     64\n",
       "37670009     41\n",
       "37670011     91\n",
       "37670027     81\n",
       "37670037     63\n",
       "37670046     68\n",
       "37670070     98\n",
       "37670118     76\n",
       "37670120     13\n",
       "37670177     90\n",
       "37670206     89\n",
       "37670212     50\n",
       "37670216     50\n",
       "37670218     48\n",
       "37670236     49\n",
       "37670266     91\n",
       "37670275      7\n",
       "37670277     42\n",
       "37670281     68\n",
       "37670285     77\n",
       "37670292     42\n",
       "\n",
       "[3000693 rows x 1 columns]"
      ]
     },
     "execution_count": 12,
     "metadata": {},
     "output_type": "execute_result"
    }
   ],
   "source": [
    "result1"
   ]
  },
  {
   "cell_type": "code",
   "execution_count": null,
   "metadata": {
    "collapsed": true
   },
   "outputs": [],
   "source": []
  }
 ],
 "metadata": {
  "kernelspec": {
   "display_name": "Python 3",
   "language": "python",
   "name": "python3"
  },
  "language_info": {
   "codemirror_mode": {
    "name": "ipython",
    "version": 3
   },
   "file_extension": ".py",
   "mimetype": "text/x-python",
   "name": "python",
   "nbconvert_exporter": "python",
   "pygments_lexer": "ipython3",
   "version": "3.5.1"
  }
 },
 "nbformat": 4,
 "nbformat_minor": 0
}
