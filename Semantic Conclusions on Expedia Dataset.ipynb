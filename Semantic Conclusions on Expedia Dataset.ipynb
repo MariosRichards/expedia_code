{
 "cells": [
  {
   "cell_type": "raw",
   "metadata": {},
   "source": [
    "Features\n",
    "########\n",
    "id                        *\n",
    "date_time\n",
    "site_name\n",
    "posa_continent\n",
    "user_location_country\n",
    "user_location_region\n",
    "user_location_city\n",
    "orig_destination_distance    M\n",
    "user_id\n",
    "is_mobile\n",
    "is_package\n",
    "channel\n",
    "srch_ci                      M  E\n",
    "srch_co\t                     M  E\n",
    "srch_adults_cnt\n",
    "srch_children_cnt\n",
    "srch_rm_cnt\n",
    "srch_destination_id\n",
    "srch_destination_type_id\n",
    "is_booking                **\n",
    "cnt\n",
    "hotel_continent\n",
    "hotel_country\n",
    "hotel_market\n",
    "hotel_cluster             **\n",
    "\n",
    "\n",
    "* only in test dataset\n",
    "** only in train dataset\n",
    "M missing values\n",
    "E errors in entries"
   ]
  },
  {
   "cell_type": "raw",
   "metadata": {},
   "source": [
    "What do the features mean?\n",
    "##########################\n",
    "id - test dataset kaggle UID\n",
    "\n",
    "date_time - presumably the date/time the search/booking sesson began??\n",
    "[check if always preceding srch_ci/srch_co]\n",
    "site_name - presumably website names - different frontends that feed data to expedia??\n",
    "posa_continent - point of sale (activation?) continent (only 5 different continents)\n",
    "[posa_continent relate to user location/site location?]\n",
    "#### user data\n",
    "user_location_country\n",
    "user_location_region\n",
    "user_location_city\n",
    "user_id\n",
    "[are these constant for a given user id?]\n",
    "\n",
    "orig_destination_distance\n",
    "- distance of the current search *from* the user's location?\n",
    "- or distance of the current search *from the user's previous destination*? Would explain why ~30% of the data is missing (sometimes there isn't a previous destination)\n",
    "[find a user who made several searches in a row, then check out the actual distances/pattern of missing values?]\n",
    "\n",
    "is_mobile - booked from a mobile?\n",
    "is_package - e.g. hotel + flight\n",
    "channel - hotel management channels - e.g. ASSD/Amadeus? \n",
    "\n",
    "srch_ci - search check in date               \n",
    "srch_co\t- search check out date\n",
    "srch_adults_cnt - how many adults? (1-14)\n",
    "srch_children_cnt - how many children? (0-6)\n",
    "srch_rm_cnt - how many rooms? (1-?)\n",
    "srch_destination_id - ~58,000 different hotels?\n",
    "srch_destination_type_id - ~9 different types??\n",
    "\n",
    "is_booking - boolean representing whether a booking was made or not?               \n",
    "cnt - count of what? 101 unique values ???\n",
    "- maybe the page no of the listing?\n",
    "\n",
    "#### hotel features\n",
    "hotel_continent\n",
    "hotel_country\n",
    "hotel_market\n",
    "hotel_cluster\n",
    "[is this constant for a given srch_destination_id?]"
   ]
  },
  {
   "cell_type": "raw",
   "metadata": {},
   "source": [
    "Missing Values\n",
    "##############\n",
    "\n",
    "srch_ci, srch_co - handful of values each (0.125%)\n",
    "- [both explicit NA values and garbled format entries]\n",
    "orig_destination_distance (36%)\n"
   ]
  },
  {
   "cell_type": "code",
   "execution_count": null,
   "metadata": {
    "collapsed": true
   },
   "outputs": [],
   "source": []
  }
 ],
 "metadata": {
  "kernelspec": {
   "display_name": "Python 3",
   "language": "python",
   "name": "python3"
  },
  "language_info": {
   "codemirror_mode": {
    "name": "ipython",
    "version": 3
   },
   "file_extension": ".py",
   "mimetype": "text/x-python",
   "name": "python",
   "nbconvert_exporter": "python",
   "pygments_lexer": "ipython3",
   "version": "3.5.1"
  }
 },
 "nbformat": 4,
 "nbformat_minor": 0
}
